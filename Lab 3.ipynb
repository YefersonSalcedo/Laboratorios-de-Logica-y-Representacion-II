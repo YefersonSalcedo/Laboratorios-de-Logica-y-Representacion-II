{
  "cells": [
    {
      "cell_type": "markdown",
      "metadata": {
        "id": "MiApJ9DYclMd"
      },
      "source": [
        "# Laboratorio 3: Recursividad"
      ]
    },
    {
      "cell_type": "markdown",
      "metadata": {
        "id": "lEjvdO26dQDb"
      },
      "source": [
        "Materia: *Lógica y Representación II*\n",
        "\n",
        "Elaborado por: *Javier Fernando Botía Valderrama*\n",
        "\n",
        "Docente del Docente del Departamento de Ingeniería de Sistemas UdeA"
      ]
    },
    {
      "cell_type": "markdown",
      "metadata": {
        "id": "gZoIkJ0rdVqr"
      },
      "source": [
        "## Descripción"
      ]
    },
    {
      "cell_type": "markdown",
      "metadata": {
        "id": "jmJy9NI-dWa7"
      },
      "source": [
        "El laboratorio 3 esta diseñado para que los estudiantes en grupos de 3 o 4 integrantes, resuelvan 6 ejercicios de recursión algorítmica, considerando el tiempo de recursión, el costo computacional temporal y la estructura de datos."
      ]
    },
    {
      "cell_type": "markdown",
      "metadata": {
        "id": "Nz4o5gpseDrJ"
      },
      "source": [
        "## Objetivos de Aprendizaje"
      ]
    },
    {
      "cell_type": "markdown",
      "metadata": {
        "id": "z17zWHzUeEeU"
      },
      "source": [
        "*  Desarrollar habilidades de diseño de algoritmo recursivos para solucionar problemas con un bajo costo computacional y reduciendo hasta lo posible la cantidad de llamadas recursivas.\n",
        "\n",
        "*  Identificar si un problema puede llegar a ser resuelto por recursividad o por fuerza bruta, comparando el costo computacional en ambos escenarios.\n",
        "\n",
        "*  Analizar las ventajas y limitantes del uso de recursión con las operaciones de estructuras de datos, tales como listas, pilas o colas."
      ]
    },
    {
      "cell_type": "markdown",
      "metadata": {
        "id": "U8xDwHf6fxgD"
      },
      "source": [
        "## Nombres de los Integrantes"
      ]
    },
    {
      "cell_type": "markdown",
      "metadata": {
        "id": "5AZQHkJPfyNe"
      },
      "source": [
        "*   Yeferson Alexis Salcedo Preciado, yeferson.salcedo@udea.edu.co.\n",
        "*   Sebastián Barrera Ruiz, s.barrera@udea.edu.co\n",
        "*   Edson Esteban Garcia Cuesta, edson.garcia@udea.edu.co\n"
      ]
    },
    {
      "cell_type": "markdown",
      "metadata": {
        "id": "k4sW8nX5f2zz"
      },
      "source": [
        "## Problema 1 (10%)"
      ]
    },
    {
      "cell_type": "markdown",
      "metadata": {
        "id": "-GluDzkuf5rA"
      },
      "source": [
        "**Descripción:**\n",
        "\n",
        "Considere dos LSL ordenados de menor a mayor, asumiendo que los tamaños de ambas LSLs son iguales o una de ellas tiene un tamaño mayor con respecto a la otra LSL. Por medio del algoritmo MergeSort, diseñe un algoritmo con recursividad que permita mezclar las dos LSLs en una nueva lista ordenada. La lista debe hacerse empalmando los nodos de las dos primeras listas. Además, se debe retornar la cabeza de la lista enlazada previamente combinada.\n",
        "\n",
        "**Pista**:\n",
        "\n",
        "LSL_1 = [**1** -> **2** -> **4**]\n",
        "\n",
        "LSL_2 = [1 -> 3 -> 4]\n",
        "\n",
        "Nueva_LSL = [1 -> **1** -> **2** -> 3 -> **4** -> 4]\n"
      ]
    },
    {
      "cell_type": "code",
      "execution_count": null,
      "metadata": {
        "id": "qdHNY80qrOFa"
      },
      "outputs": [],
      "source": [
        "def Ordenamiento(Lista1, Lista2):\n",
        "  if len(Lista1) == 0:\n",
        "    return Lista2\n",
        "  if  len(Lista2) == 0:\n",
        "    return Lista2\n",
        "\n",
        "  if len(Lista1) >= 1 and len(Lista2) >= 1:\n",
        "    m = len(Lista1)\n",
        "    p = len(Lista2)\n",
        "    L = Lista1[:m]\n",
        "    R = Lista2[:p]\n",
        "\n",
        "\n",
        "    x = [None] * (len(Lista1)+len(Lista2))\n",
        "    i,j,k = 0,0,0\n",
        "    while i < len(L) and j < len(R):\n",
        "      if L[i] <= R[j]:\n",
        "        x[k] = L[i]\n",
        "        i += 1\n",
        "      else:\n",
        "        x[k] = R[j]\n",
        "        j += 1\n",
        "      k += 1\n",
        "\n",
        "    while i < len(L):\n",
        "      x[k] = L[i]\n",
        "      i += 1\n",
        "      k += 1\n",
        "\n",
        "    while j < len(R):\n",
        "      x[k] = R[j]\n",
        "      j += 1\n",
        "      k += 1\n",
        "\n",
        "    return x"
      ]
    },
    {
      "cell_type": "markdown",
      "metadata": {
        "id": "P3gVSRt02BFP"
      },
      "source": [
        "**Explicación del algoritmo:** El algoritmo realiza lo siguiente:\n",
        "\n",
        "1. Si alguna de las listas es vacía, simplemente devuelve la otra lista, ya que no hay nada que mezclar.\n",
        "2. Si ambas listas tienen al menos un elemento, el algoritmo procede a mezclarlas.\n",
        "3. Se inicializan variables para dividir Lista1 y Lista2 en sublistas izquierda (L) y derecha (R).\n",
        "Se crea una lista vacía x del tamaño total de Lista1 y Lista2 para almacenar la mezcla ordenada.\n",
        "4. Se utiliza un bucle while para comparar los elementos de las sublistas L y R e ir colocándolos en la lista x en orden ascendente.\n",
        "5. Finalmente, la lista ordenada x se retorna.\n",
        "\n"
      ]
    },
    {
      "cell_type": "code",
      "execution_count": null,
      "metadata": {
        "colab": {
          "base_uri": "https://localhost:8080/"
        },
        "id": "z2vHax4mcOs7",
        "outputId": "52a5a7eb-8447-4663-8134-b08ef3354134"
      },
      "outputs": [
        {
          "name": "stdout",
          "output_type": "stream",
          "text": [
            "Nueva Lista =  [1, 1, 2, 3, 4, 4]\n"
          ]
        }
      ],
      "source": [
        "# Prueba 1\n",
        "\n",
        "Lista_1 = [1,2,4]\n",
        "Lista_2 = [1,3,4]\n",
        "print(\"Nueva Lista = \",Ordenamiento(Lista_1, Lista_2))"
      ]
    },
    {
      "cell_type": "code",
      "execution_count": null,
      "metadata": {
        "colab": {
          "base_uri": "https://localhost:8080/"
        },
        "id": "GyXOz4GhrqiK",
        "outputId": "3cd7bfbb-436e-4dc0-ceae-d04af5d604f5"
      },
      "outputs": [
        {
          "name": "stdout",
          "output_type": "stream",
          "text": [
            "Nueva Lista =  [1, 1, 2, 3, 4, 5, 7, 7, 8, 9]\n"
          ]
        }
      ],
      "source": [
        "# Prueba 2\n",
        "\n",
        "Lista_1 = [1,3,5,7,9]\n",
        "Lista_2 = [1,2,4,7,8]\n",
        "print(\"Nueva Lista = \",Ordenamiento(Lista_1, Lista_2))"
      ]
    },
    {
      "cell_type": "code",
      "execution_count": null,
      "metadata": {
        "colab": {
          "base_uri": "https://localhost:8080/"
        },
        "id": "mAEDJIQyr561",
        "outputId": "6959ca98-73f4-4a77-a8c2-ac545b61776c"
      },
      "outputs": [
        {
          "name": "stdout",
          "output_type": "stream",
          "text": [
            "Nueva Lista =  [0]\n"
          ]
        }
      ],
      "source": [
        "# Prueba 3\n",
        "\n",
        "Lista_1 = []\n",
        "Lista_2 = [0]\n",
        "print(\"Nueva Lista = \",Ordenamiento(Lista_1, Lista_2))"
      ]
    },
    {
      "cell_type": "markdown",
      "metadata": {
        "id": "nXKS5ia2DjJm"
      },
      "source": [
        "## Problema 2 (10 %)"
      ]
    },
    {
      "cell_type": "markdown",
      "metadata": {
        "id": "2iMrJndpDm6g"
      },
      "source": [
        "Dado un arreglo de valores enteros, diseñe un algoritmno recursivo que encuentre todas las posibles combinaciones distintas de una longitud dada $k$, donde es permitido la repetición de los elementos.\n",
        "\n",
        "**Pista 1:**\n",
        "\n",
        "$x = [1, 2, 3]$\n",
        "\n",
        "$k = 2$\n",
        "\n",
        "Salida [1, 1], [1, 2], [1, 3], [2, 2], [2, 3], [3, 3]\n",
        "\n",
        "\n",
        "**Pista 2:**\n",
        "\n",
        "$x = [1, 2, 3, 4]$\n",
        "\n",
        "$k = 2$\n",
        "\n",
        "Salida [1, 1], [1, 2], [1, 3], [1,4], [2, 2], [2, 3], [2, 4], [3, 3], [3, 4], [4, 4]"
      ]
    },
    {
      "cell_type": "code",
      "execution_count": 3,
      "metadata": {
        "id": "GwVA5_uIExwr"
      },
      "outputs": [],
      "source": [
        "def Combinaciones(x, k):\n",
        "    def hacer_Combinaciones(lista=[], posicion=0):\n",
        "        if len(lista) == k:\n",
        "            return [lista]\n",
        "        Lista = []\n",
        "        for i in range(posicion, len(x)):\n",
        "            Lista.extend(hacer_Combinaciones(lista + [x[i]], i))\n",
        "        return Lista\n",
        "\n",
        "    return hacer_Combinaciones()\n"
      ]
    },
    {
      "cell_type": "markdown",
      "metadata": {
        "id": "2UUNWhCeE7pY"
      },
      "source": [
        "**Explicación del algoritmo:** (Describir el funcionamiento del algoritmo)\n",
        "\n",
        "El algoritmo realiza lo siguiente:\n",
        "\n",
        "1. Toma dos argumentos, una lista y un entero\n",
        "2. Se crea una función auxiliar con la cual se generarán las combinaciones\n",
        "3. Se valida, se recorre la lista y se vuelve a llamar a la funcion, luego agregando cada combinacion cuando la longitud de lista == a k\n",
        "4. por ultimo devuelve la lista"
      ]
    },
    {
      "cell_type": "code",
      "execution_count": 4,
      "metadata": {
        "colab": {
          "base_uri": "https://localhost:8080/"
        },
        "id": "mmVW6Rx7E6vf",
        "outputId": "905bfa66-3bb6-4da2-bb46-1aa08feb6a3b"
      },
      "outputs": [
        {
          "name": "stdout",
          "output_type": "stream",
          "text": [
            "[[1, 1], [1, 2], [1, 3], [2, 2], [2, 3], [3, 3]]\n"
          ]
        }
      ],
      "source": [
        "# Prueba 1\n",
        "\n",
        "x = [1,2,3]\n",
        "k = 2\n",
        "L = Combinaciones(x, k)\n",
        "print(L)"
      ]
    },
    {
      "cell_type": "code",
      "execution_count": 5,
      "metadata": {
        "colab": {
          "base_uri": "https://localhost:8080/"
        },
        "id": "QGUYsHJQFLJ9",
        "outputId": "3407926f-a836-42ac-a426-515a11033fe7"
      },
      "outputs": [
        {
          "name": "stdout",
          "output_type": "stream",
          "text": [
            "[[1, 1], [1, 2], [1, 3], [1, 4], [2, 2], [2, 3], [2, 4], [3, 3], [3, 4], [4, 4]]\n"
          ]
        }
      ],
      "source": [
        "# Prueba 2\n",
        "\n",
        "x = [1,2,3,4]\n",
        "k = 2\n",
        "L = Combinaciones(x, k)\n",
        "print(L)"
      ]
    },
    {
      "cell_type": "markdown",
      "metadata": {
        "id": "DbtI54ETsEWz"
      },
      "source": [
        "## Problema 3 (25 %)"
      ]
    },
    {
      "cell_type": "markdown",
      "metadata": {
        "id": "wfGFXaXTsI1s"
      },
      "source": [
        "Considere k-arreglos de valores desordenado, $x_1, x_2, \\ldots. x_k$. Si cada arreglo tiene el mismo tamaño $m$, diseñe un algoritmo recursivo que permita crear un matriz de valores, $M$, y posteriormente, genere una lista $x_{nuevo}$, considerando un **orden espiral**.\n",
        "\n",
        "**Pista 1:**\n",
        "\n",
        "$x_1 = [1,2,3]$, $x_2 = [4,5,6]$, y $x_3 = [7,8,9]$\n",
        "\n",
        "Entrada: $M = [[1,2,3],[4,5,6],[7,8,9]]$\n",
        "\n",
        "Salida: $x_{nuevo} = [1,2,3,6,9,8,7,4,5]$\n",
        "\n",
        "<div>\n",
        "<img src=\"https://raw.githubusercontent.com/javierfernandobotia/AnalisisAvanzadoDatos/main/Espiral1.jpg\" width=\"600\"/>\n",
        "</div>\n",
        "\n",
        "**Pista 2:**\n",
        "\n",
        "$x_1 = [1,2,3,4]$, $x_2 = [5,6,7,8]$, $x_3 = [9,10,11,12]$\n",
        "\n",
        "Entrada: $M = [[1,2,3,4],[5,6,7,8],[9,10,11,12]]$\n",
        "\n",
        "Salida:  $x_{nuevo} = [1,2,3,4,8,12,11,10,9,5,6,7]$\n",
        "\n",
        "<div>\n",
        "<img src=\"https://raw.githubusercontent.com/javierfernandobotia/AnalisisAvanzadoDatos/main/Espiral2.jpg\" width=\"600\"/>\n",
        "</div>"
      ]
    },
    {
      "cell_type": "code",
      "execution_count": null,
      "metadata": {
        "id": "TFzTNIK4J9HF"
      },
      "outputs": [],
      "source": [
        "def Espiral(x1, x2, x3):\n",
        "\n",
        "  def generar_matriz(x1, x2, x3):\n",
        "    M = [x1, x2, x3]\n",
        "    return M\n",
        "\n",
        "  def generar_lista_espiral(M):\n",
        "    lista_espiral = []\n",
        "    if not M:\n",
        "      return lista_espiral\n",
        "\n",
        "    # Agregar la primera fila de la matriz a la lista\n",
        "    lista_espiral.extend(M[0])\n",
        "\n",
        "    # Eliminar la primera fila de la matriz\n",
        "    M = M[1:]\n",
        "\n",
        "    # Extraer la última columna de la matriz y agregarla a la lista en orden inverso\n",
        "    if M and M[0]:\n",
        "      for i in range(len(M)):\n",
        "        lista_espiral.append(M[i][-1])\n",
        "        M[i] = M[i][:-1]\n",
        "\n",
        "    # Agregar la última fila de la matriz en orden inverso\n",
        "    if M and M[-1]:\n",
        "      lista_espiral.extend(reversed(M[-1]))\n",
        "      M = M[:-1]\n",
        "\n",
        "    # Extraer la primera columna de la matriz y agregarla a la lista\n",
        "    if M and M[0]:\n",
        "      for i in range(len(M) - 1, -1, -1):\n",
        "        lista_espiral.append(M[i][0])\n",
        "        M[i] = M[i][1:]\n",
        "\n",
        "    # Llamar recursivamente a la función con la matriz restante\n",
        "    lista_espiral.extend(generar_lista_espiral(M))\n",
        "\n",
        "    return lista_espiral\n",
        "\n",
        "\n",
        "  M = generar_matriz(x1, x2, x3) # Crear la matriz a partir de las listas de entrada\n",
        "  x_nuevo = generar_lista_espiral(M) # Generar la lista en espiral a partir de la matriz\n",
        "  return M, x_nuevo # Devolver la matriz original y la lista en espiral"
      ]
    },
    {
      "cell_type": "markdown",
      "metadata": {
        "id": "yLF9CDjE9ENp"
      },
      "source": [
        "**Explicación del algoritmo:** (Describir el funcionamiento del algoritmo)\n",
        "\n",
        "\n",
        "    Espiral():\n",
        "\n",
        "Esta función genera una matriz a partir de tres listas y la recorre en espiral, devolviendo la matriz original y la lista con los elementos en orden espiral.\n",
        "\n",
        "$Argumentos:$\n",
        "* x1 (lista): La primera fila de la matriz.\n",
        "* x2 (lista): La segunda fila de la matriz.\n",
        "* x3 (lista): La tercera fila de la matriz.\n",
        "\n",
        "$Retorna:$\n",
        "\n",
        "* tupla: Una tupla que contiene la matriz original (`M`) y la lista en espiral (`x_nuevo`).\n",
        "\n",
        "---\n",
        "\n",
        "    generar_matriz():\n",
        "\n",
        "Crea una matriz a partir de tres listas.\n",
        "\n",
        "$Argumentos:$\n",
        "* x1 (lista): La primera fila de la matriz.\n",
        "* x2 (lista): La segunda fila de la matriz.\n",
        "* x3 (lista): La tercera fila de la matriz.\n",
        "\n",
        "$Retorna:$\n",
        "* lista: La matriz creada a partir de las listas de entrada.\n",
        "---\n",
        "\n",
        "    generar_lista_espiral():\n",
        "\n",
        "Recorre una matriz en espiral y devuelve una lista con los elementos en orden espiral.\n",
        "\n",
        "$Argumentos:$\n",
        "* M (lista): La matriz a recorrer en espiral.\n",
        "\n",
        "$Retorna:$\n",
        "* lista: La lista con los elementos de la matriz en orden espiral.\n"
      ]
    },
    {
      "cell_type": "code",
      "execution_count": null,
      "metadata": {
        "colab": {
          "base_uri": "https://localhost:8080/"
        },
        "id": "ek-ut_SE9W2Z",
        "outputId": "63d3f1b1-a950-403b-e6f6-4b7dbf7a32b9"
      },
      "outputs": [
        {
          "name": "stdout",
          "output_type": "stream",
          "text": [
            "Matriz =  [[1, 2, 3], [4, 5, 6], [7, 8, 9]]\n",
            "Lista con orden espiral =  [1, 2, 3, 6, 9, 8, 7, 4, 5]\n"
          ]
        }
      ],
      "source": [
        "# Prueba 1:\n",
        "\n",
        "x1 = [1,2,3]\n",
        "x2 = [4,5,6]\n",
        "x3 = [7,8,9]\n",
        "M, x_nuevo = Espiral(x1,x2,x3)\n",
        "print(\"Matriz = \", M)\n",
        "print(\"Lista con orden espiral = \", x_nuevo)"
      ]
    },
    {
      "cell_type": "code",
      "execution_count": null,
      "metadata": {
        "colab": {
          "base_uri": "https://localhost:8080/"
        },
        "id": "2oW3_46u9wDc",
        "outputId": "20083538-2124-4890-a323-681b58156af1"
      },
      "outputs": [
        {
          "name": "stdout",
          "output_type": "stream",
          "text": [
            "Matriz =  [[1, 2, 3, 4], [5, 6, 7, 8], [9, 10, 11, 12]]\n",
            "Lista con orden espiral =  [1, 2, 3, 4, 8, 12, 11, 10, 9, 5, 6, 7]\n"
          ]
        }
      ],
      "source": [
        "# Prueba 2:\n",
        "\n",
        "x1 = [1,2,3,4]\n",
        "x2 = [5,6,7,8]\n",
        "x3 = [9,10,11,12]\n",
        "M, x_nuevo = Espiral(x1,x2,x3)\n",
        "print(\"Matriz = \", M)\n",
        "print(\"Lista con orden espiral = \", x_nuevo)"
      ]
    },
    {
      "cell_type": "markdown",
      "metadata": {
        "id": "wF8sQTrj98EV"
      },
      "source": [
        "## Problema 4 (15 %)"
      ]
    },
    {
      "cell_type": "markdown",
      "metadata": {
        "id": "XW2BnNkB-HsK"
      },
      "source": [
        "**Descripción:**\n",
        "\n",
        "Dado un arreglo de valores enteros desordenados, diseñe un algoritmo recursivo que permita verificar si éste contiene cuatro elementos tuplas o cuadruples, a partir de una suma calculada.\n",
        "\n",
        "**Pista:**\n",
        "\n",
        "Entradas:\n",
        "\n",
        "$x = [ 2, 7, 4, 0, 9, 5, 1, 3 ]$\n",
        "\n",
        "$x_{obj} = 20$\n",
        "\n",
        "Salida:\n",
        "\n",
        "print(\"El cuadruple existe\")\n",
        "\n",
        "print(\"Resultado donde la suma es igual a 20:\")\n",
        "\n",
        "(0, 4, 7, 9)\n",
        "\n",
        "(1, 3, 7, 9)\n",
        "\n",
        "(2, 4, 5, 9)"
      ]
    },
    {
      "cell_type": "code",
      "execution_count": null,
      "metadata": {
        "id": "iKpBxY3LCOlc"
      },
      "outputs": [],
      "source": [
        "def Quadruples(x, x_obj):\n",
        "    def auxiliar(x, x_obj, arreglo=[]):\n",
        "        if len(arreglo) == 4:\n",
        "            if sum(arreglo) == x_obj:\n",
        "                print(\"El cuádruple existe:\")\n",
        "                print(\"Resultado donde la suma es igual a\",x_obj,\":\")\n",
        "                print(tuple(arreglo))\n",
        "            return\n",
        "\n",
        "        if not x:\n",
        "            return\n",
        "\n",
        "        auxiliar(x[1:], x_obj, arreglo + [x[0]])\n",
        "        auxiliar(x[1:], x_obj, arreglo)\n",
        "\n",
        "    auxiliar(x, x_obj)"
      ]
    },
    {
      "cell_type": "code",
      "execution_count": 6,
      "metadata": {},
      "outputs": [],
      "source": [
        "def Quadruples(x, x_obj):\n",
        "    resultado = []\n",
        "\n",
        "    def encontrar_cuadruples(inicio, fin, suma, elementos):\n",
        "        if suma == x_obj and len(elementos) == 4:\n",
        "            resultado.append(tuple(elementos))\n",
        "            return\n",
        "        if suma > x_obj or len(elementos) > 4:\n",
        "            return\n",
        "        for i in range(inicio, fin):\n",
        "            encontrar_cuadruples(i + 1, fin, suma + x[i], elementos + [x[i]])\n",
        "\n",
        "    encontrar_cuadruples(0, len(x), 0, [])\n",
        "    return resultado\n"
      ]
    },
    {
      "cell_type": "markdown",
      "metadata": {
        "id": "MB8g-QhJCdjs"
      },
      "source": [
        "**Explicación del algoritmo:** (Describir el funcionamiento del algoritmo)\n",
        "\n",
        "La función `Quadruples` busca todos los cuádruples en una lista de números enteros desordenados que suman un valor objetivo dado. Utiliza recursión para explorar todas las combinaciones posibles de elementos. Cuando encuentra un cuádruple que cumple con la suma deseada, lo agrega a una lista de resultados y continúa buscando. Al final, devuelve la lista de todos los cuádruples encontrados."
      ]
    },
    {
      "cell_type": "code",
      "execution_count": 7,
      "metadata": {
        "colab": {
          "base_uri": "https://localhost:8080/"
        },
        "id": "j9M5h_r2CnQ0",
        "outputId": "094b5818-da49-442a-aaec-ed5798c1c6c4"
      },
      "outputs": [
        {
          "data": {
            "text/plain": [
              "[(2, 4, 9, 5), (7, 4, 0, 9), (7, 9, 1, 3)]"
            ]
          },
          "execution_count": 7,
          "metadata": {},
          "output_type": "execute_result"
        }
      ],
      "source": [
        "# Prueba 1\n",
        "\n",
        "x = [2,7,4,0,9,5,1,3]\n",
        "x_obj = 20\n",
        "Quadruples(x, x_obj)"
      ]
    },
    {
      "cell_type": "code",
      "execution_count": 8,
      "metadata": {
        "colab": {
          "base_uri": "https://localhost:8080/"
        },
        "id": "pANXVe_ZCqwt",
        "outputId": "0a99b974-89a9-4ef7-d0fc-97df0b908ce5"
      },
      "outputs": [
        {
          "data": {
            "text/plain": [
              "[(5, 1, 0, 6), (1, 0, 5, 6)]"
            ]
          },
          "execution_count": 8,
          "metadata": {},
          "output_type": "execute_result"
        }
      ],
      "source": [
        "# Prueba 2\n",
        "\n",
        "x = [5,8,1,0,7,5,6,9]\n",
        "x_obj = 12\n",
        "Quadruples(x, x_obj)"
      ]
    },
    {
      "cell_type": "markdown",
      "metadata": {
        "id": "Ekx3a4F2FVBg"
      },
      "source": [
        "## Problema 5 (25 %)"
      ]
    },
    {
      "cell_type": "markdown",
      "metadata": {
        "id": "yDxAtTKeFcp7"
      },
      "source": [
        "Diseñe la versión recursiva del algoritmo de ordenamiento búrbuja, así como la versión recursiva del algoritmo de ordenamiento por inserción. Posteriormente, adaptar ambos algoritmos para ordenar una LDL.\n",
        "\n",
        "**Pista 1: Para el ordenamiento por inserción recursivo**\n",
        "\n",
        "Si analizamos el algoritmo de ordenamiento por Inserción, mantenemos los elementos procesados ordenados e insertamos nuevos elementos uno a uno en el arreglo ordenado.\n",
        "\n",
        "El caso base sería si el tamaño del arreglo es menor o igual a 1, y luego aplicar un retorno que no devuelve nada (solo *return*)\n",
        "\n",
        "Ordenar recursivamente los $n-1$ primeros elementos.\n",
        "\n",
        "Se debe insertar el último elemento en su posición correcta en el arreglo ordenado.\n",
        "\n",
        "**Pista 2: Para el ordenamiento burbuja recursivo**\n",
        "\n",
        "Es importante considerar que el algoritmo burbuja que en la primera iteración, se intercambia el elemento más grande al final de la lista.\n",
        "\n",
        "Asumiendo que se ordena los valores en orden creciente, la segunda iteración permite intercambiar el segundo elemento más grande a la penúltima posición y así sucesivamente.\n",
        "\n",
        "El caso base sería si el tamaño del arreglo es igual a 1, el cual retorna nada\n",
        "\n",
        "Se aplica la búsqueda burbuja normal, donde se fija el último elemento del subarreglo actual.\n",
        "\n",
        "Se recurre a todos los elementos excepto el último elemento del subarreglo actual.\n"
      ]
    },
    {
      "cell_type": "code",
      "execution_count": null,
      "metadata": {
        "id": "tjSf_NVCMlxt"
      },
      "outputs": [],
      "source": [
        "class CrearNodo:\n",
        "    def __init__(self, valor):\n",
        "        self.valor = valor\n",
        "        self.siguiente = None\n",
        "        self.anterior = None\n",
        "\n",
        "class LDL:\n",
        "    def __init__(self):\n",
        "        self.cabecera = None\n",
        "        self.cola = None\n",
        "\n",
        "    def insertarprimero(self, valor):\n",
        "        nuevo_nodo = CrearNodo(valor)\n",
        "        if not self.cabecera:\n",
        "            self.cabecera = nuevo_nodo\n",
        "            self.cola = nuevo_nodo\n",
        "        else:\n",
        "            nuevo_nodo.siguiente = self.cabecera\n",
        "            self.cabecera.anterior = nuevo_nodo\n",
        "            self.cabecera = nuevo_nodo\n",
        "\n",
        "    def insertarultimo(self, valor):\n",
        "        nuevo_nodo = CrearNodo(valor)\n",
        "        if not self.cola:\n",
        "            self.cabecera = nuevo_nodo\n",
        "            self.cola = nuevo_nodo\n",
        "        else:\n",
        "            nuevo_nodo.anterior = self.cola\n",
        "            self.cola.siguiente = nuevo_nodo\n",
        "            self.cola = nuevo_nodo\n",
        "\n",
        "    def mostrarLDL(self):\n",
        "        nodo_actual = self.cabecera\n",
        "        while nodo_actual:\n",
        "            print(nodo_actual.valor, end=\" <--> \")\n",
        "            nodo_actual = nodo_actual.siguiente\n",
        "        print(\"None\")"
      ]
    },
    {
      "cell_type": "code",
      "execution_count": null,
      "metadata": {
        "id": "3FA4zTCAM7_K"
      },
      "outputs": [],
      "source": [
        "def BurbujaRecurrente(lista, nodo=None):\n",
        "    if nodo is None:\n",
        "        nodo = lista.cabecera\n",
        "\n",
        "    if nodo.siguiente is None:\n",
        "        return lista\n",
        "\n",
        "    if nodo.valor > nodo.siguiente.valor:\n",
        "        nodo.valor, nodo.siguiente.valor = nodo.siguiente.valor, nodo.valor\n",
        "        return BurbujaRecurrente(lista, lista.cabecera)\n",
        "    else:\n",
        "        return BurbujaRecurrente(lista, nodo.siguiente)\n",
        "\n",
        "    def OrdenarLDL(lista):\n",
        "        nueva_lista = LDL()\n",
        "        nueva_lista.cabecera = BurbujaRecurrente(lista).cabecera\n",
        "        return nueva_lista"
      ]
    },
    {
      "cell_type": "code",
      "execution_count": null,
      "metadata": {
        "id": "J9j3WgOTNC2M"
      },
      "outputs": [],
      "source": [
        "def InsercionRecurrente(ldl):\n",
        "    lista_ordenada = LDL()\n",
        "\n",
        "    def InsertarEnListaOrdenada(nodo_actual, nodo_ordenado):\n",
        "        if not nodo_ordenado:\n",
        "            lista_ordenada.insertarultimo(nodo_actual.valor)\n",
        "        elif nodo_ordenado.valor < nodo_actual.valor:\n",
        "            InsertarEnListaOrdenada(nodo_actual, nodo_ordenado.siguiente)\n",
        "        else:\n",
        "            nuevo_nodo = CrearNodo(nodo_actual.valor)\n",
        "\n",
        "            if nodo_ordenado.anterior:\n",
        "                nodo_ordenado.anterior.siguiente = nuevo_nodo\n",
        "                nuevo_nodo.anterior = nodo_ordenado.anterior\n",
        "            else:\n",
        "                lista_ordenada.cabecera = nuevo_nodo\n",
        "\n",
        "            nuevo_nodo.siguiente = nodo_ordenado\n",
        "            nodo_ordenado.anterior = nuevo_nodo\n",
        "\n",
        "    def RecorrerListaOriginal(nodo_actual):\n",
        "        if nodo_actual:\n",
        "            InsertarEnListaOrdenada(nodo_actual, lista_ordenada.cabecera)\n",
        "            RecorrerListaOriginal(nodo_actual.siguiente)\n",
        "\n",
        "    RecorrerListaOriginal(ldl.cabecera)\n",
        "\n",
        "    return lista_ordenada"
      ]
    },
    {
      "cell_type": "markdown",
      "metadata": {
        "id": "5raSCU_bMyJs"
      },
      "source": [
        "**Explicación de los algoritmos:** (Describir el funcionamiento de los algoritmos)\n",
        "\n",
        "    BurbujaRecurrente\n",
        "\n",
        "El algoritmo $BurbujaRecurrente$ realiza una ordenación por burbuja recursiva de una lista doblemente ligada (LDL).\n",
        "\n",
        "- Si el nodo actual (nodo) es None o su siguiente nodo (nodo.siguiente) es None, significa que se ha llegado al final de la lista o solo hay un elemento. En este caso, se devuelve la lista original sin cambios.\n",
        "\n",
        "- Si el valor del nodo actual (nodo.valor) es mayor que el valor del siguiente nodo (nodo.siguiente.valor), se intercambian sus valores.\n",
        "\n",
        "- Se llama de nuevo a la función BurbujaRecurrente con la lista original y el nodo lista.cabecera. Esto hace que la función recorra la lista desde el principio, comparando y posiblemente intercambiando valores de pares adyacentes.\n",
        "\n",
        "- Si el valor del nodo actual no es mayor que el del siguiente, se llama de nuevo a la función BurbujaRecurrente, pero esta vez se pasa el siguiente nodo (nodo.siguiente) como parámetro. Esto continúa la recursión hasta que se llega al final de la lista.\n",
        "\n",
        "\n",
        "$OrdenarLDL$\n",
        "\n",
        "crea una nueva LDL (nueva_lista) y utiliza el algoritmo BurbujaRecurrente para ordenar la lista original (lista).\n",
        "\n",
        "- Se crea una nueva LDL vacía.\n",
        "\n",
        "- Se llama al algoritmo BurbujaRecurrente con la lista original (lista) y se obtiene la referencia al nodo cabecera de la lista ordenada.\n",
        "\n",
        "- Asignación de cabecera: Se asigna la referencia al nodo cabecera de la lista ordenada a la cabecera de la nueva lista (nueva_lista.cabecera).\n",
        "\n",
        "- Se devuelve la nueva lista ordenada (nueva_lista).\n",
        "---\n",
        "\n",
        "    insercion_recurrente\n",
        "\n",
        "El algoritmo __InsercionRecurrente__ ordena una LDL utilizando el método de ordenación por inserción recursivo.\n",
        "\n",
        "$InsertarEnListaOrdenada:$\n",
        "\n",
        "Esta función inserta un nodo (nodo_actual) en la lista ordenada (lista_ordenada) en el lugar correcto según su valor.\n",
        "\n",
        "- Si la lista ordenada está vacía, el valor del nodo actual se inserta al final.\n",
        "\n",
        "- Si el valor del nodo actual es menor que el valor del nodo actual de la lista ordenada (nodo_ordenado), se llama recursivamente a la función para continuar buscando la posición correcta en la lista ordenada.\n",
        "\n",
        "- En caso contrario, se crea un nuevo nodo con el valor del nodo actual.\n",
        "\n",
        "- Se actualizan los punteros siguiente y anterior de los nodos adyacentes para insertar el nuevo nodo en la lista ordenada.\n",
        "\n",
        "$RecorrerListaOriginal:$\n",
        "\n",
        "- Esta función recorre la lista original (ldl) llamando a la función InsertarEnListaOrdenada para cada nodo de la lista original.\n",
        "\n",
        "- Para cada nodo actual (nodo_actual), se inserta en la lista ordenada (lista_ordenada) utilizando la función InsertarEnListaOrdenada.\n",
        "\n",
        "- La recursión continúa hasta que se haya recorrido toda la lista original.\n",
        "\n",
        "\n",
        "Una vez que se ha recorrido la lista original y todos los nodos se han insertado en la lista ordenada, la función RecorrerListaOriginal devuelve la lista ordenada (lista_ordenada).\n",
        "\n",
        "En definitiva, el algoritmo insercion_recurrente ordena una LDL recorriendo la lista original y utilizando la función InsertarEnListaOrdenada para insertar cada nodo en la lista ordenada en el lugar correcto según su valor. La recursión se utiliza para evitar la necesidad de mantener un puntero a la posición de inserción durante la ordenación.\n"
      ]
    },
    {
      "cell_type": "code",
      "execution_count": null,
      "metadata": {
        "colab": {
          "base_uri": "https://localhost:8080/"
        },
        "id": "F4T9jV0INJCl",
        "outputId": "0a0b85c7-b685-4fbb-9fc0-a529b836122b"
      },
      "outputs": [
        {
          "name": "stdout",
          "output_type": "stream",
          "text": [
            "LDL original:\n",
            "5 <--> 5 <--> 1 <--> 2 <--> 8 <--> 4 <--> None\n",
            "LDL con ordenamiento burbuja recurrente:\n",
            "1 <--> 2 <--> 4 <--> 5 <--> 5 <--> 8 <--> None\n",
            "LDL con ordenamiento por inserción recurrente:\n",
            "1 <--> 2 <--> 4 <--> 5 <--> 5 <--> 8 <--> None\n"
          ]
        }
      ],
      "source": [
        "# Prueba 1: LDL = [5 <--> 5 <--> 1 <--> 2 <--> 8 <--> 4]\n",
        "ldl = LDL()\n",
        "ldl.insertarprimero(4)\n",
        "ldl.insertarprimero(8)\n",
        "ldl.insertarprimero(2)\n",
        "ldl.insertarprimero(1)\n",
        "ldl.insertarprimero(5)\n",
        "ldl.insertarprimero(5)\n",
        "\n",
        "print(\"LDL original:\")\n",
        "ldl.mostrarLDL()\n",
        "\n",
        "lista_burbuja = BurbujaRecurrente(ldl)\n",
        "print(\"LDL con ordenamiento burbuja recurrente:\")\n",
        "lista_burbuja.mostrarLDL()\n",
        "\n",
        "lista_insercion = InsercionRecurrente(ldl)\n",
        "print(\"LDL con ordenamiento por inserción recurrente:\")\n",
        "lista_insercion.mostrarLDL()\n"
      ]
    },
    {
      "cell_type": "code",
      "execution_count": null,
      "metadata": {
        "colab": {
          "base_uri": "https://localhost:8080/"
        },
        "id": "fz6-NJ0sNkMI",
        "outputId": "b41a6ad2-4aa0-43c9-c320-41a1c70aa39e"
      },
      "outputs": [
        {
          "name": "stdout",
          "output_type": "stream",
          "text": [
            "LDL original:\n",
            "2 <--> 7 <--> 2 <--> 2 <--> 2 <--> 2 <--> 5 <--> None\n",
            "LDL con ordenamiento burbuja recurrente:\n",
            "2 <--> 2 <--> 2 <--> 2 <--> 2 <--> 5 <--> 7 <--> None\n",
            "LDL con ordenamiento por inserción recurrente:\n",
            "2 <--> 2 <--> 2 <--> 2 <--> 2 <--> 5 <--> 7 <--> None\n"
          ]
        }
      ],
      "source": [
        "# Prueba 2: LDL = [2 <--> 7 <--> 2 <--> 2 <--> 2 <--> 5]\n",
        "ldl = LDL()\n",
        "ldl.insertarprimero(5)\n",
        "ldl.insertarprimero(2)\n",
        "ldl.insertarprimero(2)\n",
        "ldl.insertarprimero(2)\n",
        "ldl.insertarprimero(2)\n",
        "ldl.insertarprimero(7)\n",
        "ldl.insertarprimero(2)\n",
        "\n",
        "print(\"LDL original:\")\n",
        "ldl.mostrarLDL()\n",
        "\n",
        "lista_burbuja = BurbujaRecurrente(ldl)\n",
        "print(\"LDL con ordenamiento burbuja recurrente:\")\n",
        "lista_burbuja.mostrarLDL()\n",
        "\n",
        "lista_insercion = InsercionRecurrente(ldl)\n",
        "print(\"LDL con ordenamiento por inserción recurrente:\")\n",
        "lista_insercion.mostrarLDL()\n"
      ]
    },
    {
      "cell_type": "markdown",
      "metadata": {
        "id": "6AgEB_0oNsLr"
      },
      "source": [
        "## Problema 6 (15 %)"
      ]
    },
    {
      "cell_type": "markdown",
      "metadata": {
        "id": "eh_Ak8mvNwB7"
      },
      "source": [
        "Diseñe un algoritmo recursivo que permita resolver el problema de Hanoi con *cuatro clavijas*, considerando el primer caso con 4 discos y posteriormente, con 5 discos.\n",
        "\n",
        "Es importante recordar que:\n",
        "\n",
        "1. No se puede colocar un disco más grande en un disco más pequeño\n",
        "\n",
        "2. Sólo se puede mover un disco a la vez"
      ]
    },
    {
      "cell_type": "code",
      "execution_count": 9,
      "metadata": {
        "id": "WmMuZ3qXNvf5"
      },
      "outputs": [],
      "source": [
        "def Hanoi4clavijas(n, clavija_inicial, clavija_objetivo, clavija_auxiliar_1, clavija_auxiliar_2):\n",
        "  if n>0:\n",
        "    Hanoi4clavijas(n-1, clavija_inicial,  clavija_auxiliar_2 ,clavija_objetivo, clavija_auxiliar_1 )\n",
        "    print(f'mover disco {n} desde {clavija_inicial} a {clavija_objetivo}')\n",
        "    Hanoi4clavijas(n-1, clavija_auxiliar_2, clavija_objetivo, clavija_inicial, clavija_auxiliar_1)\n",
        "\n"
      ]
    },
    {
      "cell_type": "code",
      "execution_count": 10,
      "metadata": {
        "colab": {
          "base_uri": "https://localhost:8080/"
        },
        "id": "3PwwsByz9bCX",
        "outputId": "cac52bb2-106f-4423-e378-62ab012d0132"
      },
      "outputs": [
        {
          "name": "stdout",
          "output_type": "stream",
          "text": [
            "mover disco 1 desde A a D\n",
            "mover disco 2 desde A a B\n",
            "mover disco 1 desde D a B\n",
            "mover disco 3 desde A a C\n",
            "mover disco 1 desde B a D\n",
            "mover disco 2 desde B a C\n",
            "mover disco 1 desde D a C\n",
            "mover disco 4 desde A a D\n",
            "mover disco 1 desde C a A\n",
            "mover disco 2 desde C a B\n",
            "mover disco 1 desde A a B\n",
            "mover disco 3 desde C a D\n",
            "mover disco 1 desde B a A\n",
            "mover disco 2 desde B a D\n",
            "mover disco 1 desde A a D\n"
          ]
        }
      ],
      "source": [
        "Hanoi4clavijas(4, \"A\", \"D\", \"B\", \"C\")"
      ]
    },
    {
      "cell_type": "code",
      "execution_count": 11,
      "metadata": {
        "colab": {
          "base_uri": "https://localhost:8080/"
        },
        "id": "UeO8KWcF9aPJ",
        "outputId": "69f4eab8-f47d-4e71-e3fc-4588d8cdc090"
      },
      "outputs": [
        {
          "name": "stdout",
          "output_type": "stream",
          "text": [
            "mover disco 1 desde A a C\n",
            "mover disco 2 desde A a D\n",
            "mover disco 1 desde C a D\n",
            "mover disco 3 desde A a B\n",
            "mover disco 1 desde D a C\n",
            "mover disco 2 desde D a B\n",
            "mover disco 1 desde C a B\n",
            "mover disco 4 desde A a C\n",
            "mover disco 1 desde B a A\n",
            "mover disco 2 desde B a D\n",
            "mover disco 1 desde A a D\n",
            "mover disco 3 desde B a C\n",
            "mover disco 1 desde D a A\n",
            "mover disco 2 desde D a C\n",
            "mover disco 1 desde A a C\n",
            "mover disco 5 desde A a D\n",
            "mover disco 1 desde C a D\n",
            "mover disco 2 desde C a A\n",
            "mover disco 1 desde D a A\n",
            "mover disco 3 desde C a B\n",
            "mover disco 1 desde A a D\n",
            "mover disco 2 desde A a B\n",
            "mover disco 1 desde D a B\n",
            "mover disco 4 desde C a D\n",
            "mover disco 1 desde B a C\n",
            "mover disco 2 desde B a A\n",
            "mover disco 1 desde C a A\n",
            "mover disco 3 desde B a D\n",
            "mover disco 1 desde A a C\n",
            "mover disco 2 desde A a D\n",
            "mover disco 1 desde C a D\n"
          ]
        }
      ],
      "source": [
        "Hanoi4clavijas(5, \"A\", \"D\", \"B\", \"C\")"
      ]
    },
    {
      "cell_type": "markdown",
      "metadata": {
        "id": "_4cq7qGDRT-L"
      },
      "source": [
        "**Explicación del algoritmo:** \n",
        "\n",
        "La función Hanoi4clavijas toma 5 argumentos, n, clavija_inicial, clavija_objetivo, clavija_auxiliar_1, clavija_auxiliar_2 y a través de llamadas recursivas realiza lo suiguinte:\n",
        "\n",
        "1. Mueve n-1 discos de la clavija_inicial a la clavija_auxiliar_2 utilizando la clavija_objetivo y clavija_auxiliar_1 como clavijas auxiliares.\n",
        "\n",
        "2. Imprime un mensaje indicando el movimiento del disco n desde la clavija_inicial a la clavija_objetivo.\n",
        "\n",
        "3. Mueve n-1 discos de la clavija_auxiliar_2 a la clavija_objetivo utilizando la clavija_inicial y clavija_auxiliar_1 como clavijas auxiliares."
      ]
    }
  ],
  "metadata": {
    "colab": {
      "provenance": []
    },
    "kernelspec": {
      "display_name": "Python 3",
      "name": "python3"
    },
    "language_info": {
      "codemirror_mode": {
        "name": "ipython",
        "version": 3
      },
      "file_extension": ".py",
      "mimetype": "text/x-python",
      "name": "python",
      "nbconvert_exporter": "python",
      "pygments_lexer": "ipython3",
      "version": "3.12.2"
    }
  },
  "nbformat": 4,
  "nbformat_minor": 0
}
