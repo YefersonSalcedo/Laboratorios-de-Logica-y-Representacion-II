{
  "nbformat": 4,
  "nbformat_minor": 0,
  "metadata": {
    "colab": {
      "provenance": [],
      "toc_visible": true
    },
    "kernelspec": {
      "name": "python3",
      "display_name": "Python 3"
    },
    "language_info": {
      "name": "python"
    }
  },
  "cells": [
    {
      "cell_type": "markdown",
      "source": [
        "# Laboratorio 2: Manejo de Listas y Colas"
      ],
      "metadata": {
        "id": "porWCP37SP8j"
      }
    },
    {
      "cell_type": "markdown",
      "source": [
        "Materia: *Lógica y Representación II*\n",
        "\n",
        "Elaborado por: *Javier Fernando Botía Valderrama*\n",
        "\n",
        "Docente del Docente del Departamento de Ingeniería de Sistemas UdeA"
      ],
      "metadata": {
        "id": "2NCeRYKUSUQb"
      }
    },
    {
      "cell_type": "markdown",
      "source": [
        "## Descripción"
      ],
      "metadata": {
        "id": "OflWDI63SXzQ"
      }
    },
    {
      "cell_type": "markdown",
      "source": [
        "El laboratorio 2 esta diseñado para que los estudiantes en grupos de 3 o 4 integrantes, resuelvan 7 ejercicios de diseño algorítimico enfocado en el manejo listas y colas, considerando el costo computacional de las operaciones de acuerdo con la estructura de datos a utilizar y el análisis de la complejidad computacional temporal y espacial."
      ],
      "metadata": {
        "id": "D7GNZHqoSZ7r"
      }
    },
    {
      "cell_type": "markdown",
      "source": [
        "## Objetivos de Aprendizaje"
      ],
      "metadata": {
        "id": "_AJJZ5QMSz5K"
      }
    },
    {
      "cell_type": "markdown",
      "source": [
        "*   Diseñar algoritmos para las operaciones básicas y avanzadas en el manejo de listas y colas, evaluando su desempeño bajo el enfoque de la complejidad computacional Big-Oh.\n",
        "*   Desarrollar habilidades avanzadas en el diseño algorítmico para mejorar la calidad del código durante la ejecución de las operaciones en listas, colas o la adaptación de ambas."
      ],
      "metadata": {
        "id": "l5e48MM3S16q"
      }
    },
    {
      "cell_type": "markdown",
      "source": [
        "## Nombres de los Integrantes"
      ],
      "metadata": {
        "id": "WzlYGjPHT1gt"
      }
    },
    {
      "cell_type": "markdown",
      "source": [
        "*   Yeferson Alexis Salcedo Preciado, yeferson.salcedo@udea.edu.co\n",
        "*   Sebastián Barrera Ruiz, s.barrera@udea.edu.co\n",
        "*   Edson Esteban Garcia Cuesta, edson.garcia@udea.edu.co"
      ],
      "metadata": {
        "id": "hk-9Ul-UT33b"
      }
    },
    {
      "cell_type": "markdown",
      "source": [
        "## Problema 1 (8%)"
      ],
      "metadata": {
        "id": "nJpzfYkmT6ln"
      }
    },
    {
      "cell_type": "markdown",
      "source": [
        "**Descripción:**\n",
        "\n",
        "Considere el diseño algorítmico visto en clase para el manejo de un arreglo o lista con dos colas, usando colas circulares. Apartir del diseño base, diseñe un algoritmo que permita buscar un elemento de la lista:\n",
        "\n",
        "```\n",
        "def Busqueda(self, x_obj)\n",
        "```\n",
        "\n",
        "asumiendo que el costo computacional deseado es $\\mathcal{O}(log_2 (n))$. Por favor, explicar el funcionamiento del algoritmo."
      ],
      "metadata": {
        "id": "eOxcWmOAT_Gy"
      }
    },
    {
      "cell_type": "code",
      "execution_count": null,
      "metadata": {
        "id": "zNpVsbs2FH8k"
      },
      "outputs": [],
      "source": [
        "class A2CC:\n",
        "  def __init__(self, n): # n tamaño de la lista\n",
        "    m = n // 2 # // división por piso (residuo como valor entero)\n",
        "    self.total = n\n",
        "    self.capacidad = m\n",
        "    self.V = [None]*self.total\n",
        "    self.P1 = -1 # 0\n",
        "    self.F1 = self.capacidad - 1 # m -1\n",
        "    self.P2 = self.capacidad - 1 # m-1\n",
        "    self.F2 = self.total -1 # n -1\n",
        "\n",
        "  def ColaLLena(self, cola_inicio, cola_final):\n",
        "    # La primera mitad\n",
        "    if cola_final == (self.capacidad - 1): # F1 = m - 1\n",
        "      if cola_inicio == cola_final:\n",
        "        return True\n",
        "    # La segunda mitad\n",
        "    if cola_final == (self.total - 1): # F2 = n - 1\n",
        "      if cola_inicio == cola_final:\n",
        "        return True\n",
        "\n",
        "  def ColaVacia(self, cola_inicio, cola_final):\n",
        "    # La primera mitad\n",
        "    if cola_inicio == -1 and cola_final == self.capacidad - 1:\n",
        "      return True\n",
        "    # La segunda mitad\n",
        "    if cola_inicio == self.capacidad - 1 and cola_final == self.total - 1:\n",
        "      return True\n",
        "\n",
        "  def Encolar1(self, valor):\n",
        "    # La primera mitad\n",
        "    if self.ColaLLena(self.P1, self.F1) != True:\n",
        "      self.P1 = (self.P1 + 1) % self.capacidad\n",
        "      self.V[self.P1] = valor\n",
        "    else:\n",
        "      print(\"La cola 1 esta llena\")\n",
        "\n",
        "  def Encolar2(self, valor):\n",
        "     # La segunda mitad\n",
        "     if self.ColaLLena(self.P2, self.F2) != True:\n",
        "      self.P2 = ((self.P2 - self.capacidad + 1) % (self.total - self.capacidad)) + self.capacidad\n",
        "      # P2 = ((P2 - m + 1) % (n - m)) + m\n",
        "      self.V[self.P2] = valor\n",
        "     else:\n",
        "      print(\"La cola 2 esta llena\")\n",
        "\n",
        "  def Busqueda(self, x_obj):\n",
        "    pos=0\n",
        "    bandera=0\n",
        "    for i in range(0, self.capacidad):\n",
        "      if x_obj == self.V[i]:\n",
        "        print(\"El elemento esta en la lista; esta en la posición \", pos)\n",
        "        bandera = 1\n",
        "        break\n",
        "      pos = pos + 1\n",
        "\n",
        "    if bandera == 0:\n",
        "      pos = self.capacidad\n",
        "      for i in range(self.capacidad, self.total):\n",
        "        if x_obj == self.V[i]:\n",
        "          print(\"El elemento esta en la lista; esta en la posición \", pos)\n",
        "          break\n",
        "        pos = pos + 1\n",
        "      else:\n",
        "        print(\"No se encuentra en elemento\")\n",
        "\n",
        "\n",
        "\n",
        "  def MostrarA2CC(self):\n",
        "    if self.ColaVacia(self.P1, self.F1) == True:\n",
        "      print(\"La cola 1 esta vacia\")\n",
        "    if self.ColaVacia(self.P2, self.F2) == True:\n",
        "      print(\"La cola 2 esta vacia\")\n",
        "    print(self.V)"
      ]
    },
    {
      "cell_type": "markdown",
      "source": [
        "**Por favor, explicar el algoritmo diseñado:**"
      ],
      "metadata": {
        "id": "iKK45BhNWHvS"
      }
    },
    {
      "cell_type": "markdown",
      "source": [
        "En la función busqueda se usan dos variables, pos y bandera, la variable pos nos va a indicar en que posición se encuentra el elemento que estamos buscando y la variable bandera nos indica si el elemento se encontro en la primera parte de la lista.\n",
        "\n",
        "Para buscar el elemento se utilizan dos cilos for, cada ciclo for recorre una mitad de la lista, iniciando siempre por la primera mitad de la lista, para luego hacer una validación y saber si se encontro o no el elemento, en caso de encontrar el elemento no se ejecuta el siguiente ciclo for, en que caso de que no se encuentre el elemento se ejecuta el siguinete ciclo for buscando el elemento y si al final no se encuentra este elemento se mostrara un mensaje notificando que el elemeento no fue encontrado"
      ],
      "metadata": {
        "id": "bzM-5ZIGWIh0"
      }
    },
    {
      "cell_type": "code",
      "source": [
        "# Prueba 1\n",
        "x_obj = 18\n",
        "Lista = A2CC(20)\n",
        "Lista.Encolar1(8)\n",
        "Lista.Encolar1(4)\n",
        "Lista.Encolar1(77)\n",
        "Lista.Encolar1(2)\n",
        "Lista.Encolar1(18)\n",
        "Lista.Encolar1(20)\n",
        "Lista.Encolar1(21)\n",
        "Lista.MostrarA2CC()\n",
        "Lista.Busqueda(x_obj)"
      ],
      "metadata": {
        "id": "ZvobecX9WJXh",
        "colab": {
          "base_uri": "https://localhost:8080/"
        },
        "outputId": "4c2d6a33-17d5-4103-fe47-f70eeac5989f"
      },
      "execution_count": null,
      "outputs": [
        {
          "output_type": "stream",
          "name": "stdout",
          "text": [
            "La cola 2 esta vacia\n",
            "[8, 4, 77, 2, 18, 20, 21, None, None, None, None, None, None, None, None, None, None, None, None, None]\n",
            "El elemento esta en la lista; esta en la posición  4\n"
          ]
        }
      ]
    },
    {
      "cell_type": "code",
      "source": [
        "# Prueba 2\n",
        "x_obj = 97\n",
        "Lista = A2CC(20)\n",
        "Lista.Encolar1(8)\n",
        "Lista.Encolar1(4)\n",
        "Lista.Encolar1(77)\n",
        "Lista.Encolar1(2)\n",
        "Lista.Encolar1(18)\n",
        "Lista.Encolar1(20)\n",
        "Lista.Encolar1(21)\n",
        "Lista.Encolar2(80)\n",
        "Lista.Encolar2(97)\n",
        "Lista.Encolar2(5)\n",
        "Lista.MostrarA2CC()\n",
        "Lista.Busqueda(x_obj)"
      ],
      "metadata": {
        "id": "aiOrL4ATWjZS",
        "colab": {
          "base_uri": "https://localhost:8080/"
        },
        "outputId": "f99aac4a-e452-4c07-c007-5b101588c05d"
      },
      "execution_count": null,
      "outputs": [
        {
          "output_type": "stream",
          "name": "stdout",
          "text": [
            "[8, 4, 77, 2, 18, 20, 21, None, None, None, 80, 97, 5, None, None, None, None, None, None, None]\n",
            "El elemento esta en la lista; esta en la posición  11\n"
          ]
        }
      ]
    },
    {
      "cell_type": "code",
      "source": [
        "# Prueba 3\n",
        "x_obj = 1050\n",
        "Lista = A2CC(20)\n",
        "Lista.Encolar1(88)\n",
        "Lista.Encolar1(1055)\n",
        "Lista.Encolar1(1022)\n",
        "Lista.Encolar1(99)\n",
        "Lista.Encolar1(98)\n",
        "Lista.Encolar2(55)\n",
        "Lista.Encolar1(2221)\n",
        "Lista.Encolar2(8000)\n",
        "Lista.Encolar2(9707)\n",
        "Lista.Encolar2(997)\n",
        "Lista.Encolar1(9998)\n",
        "Lista.MostrarA2CC()\n",
        "Lista.Busqueda(x_obj)"
      ],
      "metadata": {
        "id": "BP6nS36HWv2x",
        "colab": {
          "base_uri": "https://localhost:8080/"
        },
        "outputId": "96864aa4-4f60-4e41-b031-c91e72693a94"
      },
      "execution_count": null,
      "outputs": [
        {
          "output_type": "stream",
          "name": "stdout",
          "text": [
            "[88, 1055, 1022, 99, 98, 2221, 9998, None, None, None, 55, 8000, 9707, 997, None, None, None, None, None, None]\n",
            "No se encuentra en elemento\n"
          ]
        }
      ]
    },
    {
      "cell_type": "markdown",
      "source": [
        "## Problema 2 (10%)"
      ],
      "metadata": {
        "id": "h34226-5XEEy"
      }
    },
    {
      "cell_type": "markdown",
      "source": [
        "**Descripción:**\n",
        "\n",
        "Considere dos LSL, *Lista1* y *Lista2*, donde la cola de la segunda lista apunta a un nodo de la primera lista. Diseñe un algoritmo para encontrar el nodo donde se cruzan ambas listas. Posteriormente, explicar el funcionamiento del algoritmo, teniendo en cuenta el costo computacional espacial que genera.\n"
      ],
      "metadata": {
        "id": "mbVEe-jbXIiy"
      }
    },
    {
      "cell_type": "code",
      "source": [
        "class Nodo:\n",
        "    def __init__(self, valor):\n",
        "        self.valor = valor\n",
        "        self.siguiente = None\n",
        "\n",
        "class LSL:\n",
        "    def __init__(self):\n",
        "        self.inicio = None\n",
        "\n",
        "    def insertar(self, valor):\n",
        "        nuevo_nodo = Nodo(valor)\n",
        "        if self.inicio is None:\n",
        "            self.inicio = nuevo_nodo\n",
        "        else:\n",
        "            nodo_actual = self.inicio\n",
        "            while nodo_actual.siguiente:\n",
        "                nodo_actual = nodo_actual.siguiente\n",
        "            nodo_actual.siguiente = nuevo_nodo\n",
        "\n",
        "    def buscar(self, valor):\n",
        "        nodo_actual = self.inicio\n",
        "        pos = 0\n",
        "        while nodo_actual:\n",
        "            if nodo_actual.valor == valor:\n",
        "                return pos\n",
        "            nodo_actual = nodo_actual.siguiente\n",
        "            pos += 1\n",
        "        return -1\n",
        "\n",
        "    def eliminar(self, valor):\n",
        "        if self.inicio is None:\n",
        "            print(\"La lista está vacía\")\n",
        "            return\n",
        "        if self.inicio.valor == valor:\n",
        "            self.inicio = self.inicio.siguiente\n",
        "            return\n",
        "        nodo_actual = self.inicio\n",
        "        while nodo_actual.siguiente:\n",
        "            if nodo_actual.siguiente.valor == valor:\n",
        "                nodo_actual.siguiente = nodo_actual.siguiente.siguiente\n",
        "                return\n",
        "            nodo_actual = nodo_actual.siguiente\n",
        "\n",
        "    def imprimir(self):\n",
        "        if self.inicio is None:\n",
        "            print(\"La lista está vacía\")\n",
        "        else:\n",
        "            nodo_actual = self.inicio\n",
        "            while nodo_actual:\n",
        "                print(nodo_actual.valor, end=\" -> \")\n",
        "                nodo_actual = nodo_actual.siguiente\n",
        "            print(\"None\")\n",
        "\n",
        "    def Cruce(self, Lista1, Lista2):\n",
        "        def longitud_lista(lista):\n",
        "            longitud = 0\n",
        "            nodo_actual = lista\n",
        "            while nodo_actual:\n",
        "                longitud += 1\n",
        "                nodo_actual = nodo_actual.siguiente\n",
        "            return longitud\n",
        "\n",
        "        longitud_lista1 = longitud_lista(Lista1)\n",
        "        longitud_lista2 = longitud_lista(Lista2)\n",
        "\n",
        "        nodo_lista1 = Lista1\n",
        "        nodo_lista2 = Lista2\n",
        "        if longitud_lista1 > longitud_lista2:\n",
        "            for _ in range(longitud_lista1 - longitud_lista2):\n",
        "                nodo_lista1 = nodo_lista1.siguiente\n",
        "        elif longitud_lista2 > longitud_lista1:\n",
        "            for _ in range(longitud_lista2 - longitud_lista1):\n",
        "                nodo_lista2 = nodo_lista2.siguiente\n",
        "\n",
        "        while nodo_lista1 != nodo_lista2:\n",
        "            nodo_lista1 = nodo_lista1.siguiente\n",
        "            nodo_lista2 = nodo_lista2.siguiente\n",
        "\n",
        "        return nodo_lista1\n"
      ],
      "metadata": {
        "id": "MvdVwT4jZC2z"
      },
      "execution_count": 5,
      "outputs": []
    },
    {
      "cell_type": "markdown",
      "source": [
        "**Por favor, explicar el algoritmo diseñado:**"
      ],
      "metadata": {
        "id": "QiDGYVe7ZCXC"
      }
    },
    {
      "cell_type": "markdown",
      "source": [
        "Se definen clases para representar nodos individuales y listas enlazadas. Cada nodo contiene un valor y una referencia al siguiente nodo en la lista.\n",
        "\n",
        "Se implementan métodos para insertar nuevos nodos, buscar valores específicos, eliminar nodos e imprimir la lista. Estas operaciones son fundamentales para manipular las listas enlazadas de manera efectiva.\n",
        "\n",
        "Determinación del punto de cruce: Se define un método específico para encontrar el punto de cruce entre dos listas enlazadas. Este método calcula las longitudes de ambas listas y ajusta los punteros hacia adelante de la lista más larga para que ambas comiencen desde la misma distancia del final. Luego, avanza simultáneamente por ambas listas hasta encontrar el nodo donde se cruzan.\n",
        "\n",
        "Ahora se realizaran pruebas del algoritmo utilizando listas enlazadas\n",
        "específicas. Se simula el punto de cruce conectando la cola de una lista a un nodo en la otra lista. Luego, se utiliza el algoritmo para encontrar el nodo donde se cruzan y se imprime su valor.\n"
      ],
      "metadata": {
        "id": "SG_mL97PZVHR"
      }
    },
    {
      "cell_type": "code",
      "source": [
        "# Prueba 1\n",
        "\n",
        "Lista1 = LSL() # Colocar una LSL de 8 elementos cualesquiera\n",
        "Lista1.insertar(1)\n",
        "Lista1.insertar(2)\n",
        "Lista1.insertar(3)\n",
        "Lista1.insertar(4)\n",
        "Lista1.insertar(5)\n",
        "Lista1.insertar(6)\n",
        "Lista1.insertar(7)\n",
        "Lista1.insertar(8)\n",
        "\n",
        "\n",
        "Lista2 = LSL() # Colocar una LSL de 4 elementos cualesquiera\n",
        "Lista2.insertar(11)\n",
        "Lista2.insertar(12)\n",
        "Lista2.insertar(13)\n",
        "Lista2.insertar(14)\n",
        "\n",
        "# Obtener el nodo de Lista1 al que queremos que apunte la cola de Lista2\n",
        "nodo_deseado = Lista1.inicio.siguiente.siguiente  # En este caso, estamos seleccionando el tercer nodo de Lista1\n",
        "\n",
        "# Configurar la cola de Lista2 para que apunte al nodo deseado de Lista1\n",
        "Lista2.inicio.siguiente = nodo_deseado\n",
        "\n",
        "# Encontrar el nodo donde se cruzan las listas\n",
        "nodo_cruzado = Lista1.Cruce(Lista1.inicio, Lista2.inicio)\n",
        "\n",
        "# Imprimir el valor del nodo donde se cruzan las listas\n",
        "print(\"Valor donde se cruzan:\", nodo_cruzado.valor)"
      ],
      "metadata": {
        "id": "sJb7HBP0ZVqr",
        "colab": {
          "base_uri": "https://localhost:8080/"
        },
        "outputId": "bdd096a3-84e9-40f8-c2b9-3ae044495ef5"
      },
      "execution_count": 7,
      "outputs": [
        {
          "output_type": "stream",
          "name": "stdout",
          "text": [
            "Valor donde se cruzan: 3\n"
          ]
        }
      ]
    },
    {
      "cell_type": "code",
      "source": [
        "# Prueba 2\n",
        "\n",
        "# Colocar una LSL de 5 elementos cualesquiera\n",
        "Lista1 = LSL()\n",
        "Lista1.insertar('A')\n",
        "Lista1.insertar('B')\n",
        "Lista1.insertar('C')\n",
        "Lista1.insertar('D')\n",
        "Lista1.insertar('E')\n",
        "\n",
        "Lista2 = LSL() # Colocar una LSL de 8 elementos cualesquiera\n",
        "Lista2.insertar('Z')\n",
        "Lista2.insertar('Y')\n",
        "Lista2.insertar('X')\n",
        "Lista2.insertar('W')\n",
        "Lista2.insertar('V')\n",
        "Lista2.insertar('U')\n",
        "Lista2.insertar('T')\n",
        "Lista2.insertar('S')\n",
        "\n",
        "# Obtener el nodo de Lista1 al que queremos que apunte la cola de Lista2\n",
        "\n",
        "nodo_deseado = Lista1.inicio.siguiente  # En este caso, estamos seleccionando el segundo nodo de Lista1\n",
        "# Configurar la cola de Lista2 para que apunte al nodo deseado de Lista1\n",
        "Lista2.inicio.siguiente = nodo_deseado\n",
        "\n",
        "nodo_cruzado = Lista1.Cruce(Lista1.inicio, Lista2.inicio)\n",
        "print(\"Valor donde se cruzan:\", nodo_cruzado.valor)"
      ],
      "metadata": {
        "id": "AMEtougIaaKj",
        "colab": {
          "base_uri": "https://localhost:8080/"
        },
        "outputId": "268388ed-cfa5-4269-e449-f92a6ad8d4ee"
      },
      "execution_count": 8,
      "outputs": [
        {
          "output_type": "stream",
          "name": "stdout",
          "text": [
            "Valor donde se cruzan: B\n"
          ]
        }
      ]
    },
    {
      "cell_type": "markdown",
      "source": [
        "## Problema 3 (20%)"
      ],
      "metadata": {
        "id": "vWXoqnIUalWJ"
      }
    },
    {
      "cell_type": "markdown",
      "source": [
        "Considere una LDL donde el usuario ingresa valores en cualquier posición de la lista. Diseñe un algoritmo de ordenamiento ascendente de la LDL, tal que el costo computacional para el intercambio de elementos o valores sea $\\mathcal{O}(n)$, en el peor de los casos.\n",
        "\n",
        "Por favor, explicar el funcionamiento del algoritmo."
      ],
      "metadata": {
        "id": "UxtRckEKarGa"
      }
    },
    {
      "cell_type": "code",
      "source": [
        "class crearNodo:\n",
        "  def __init__(self, valor):\n",
        "    self.valor = valor\n",
        "    self.siguiente = None\n",
        "    self.anterior = None\n",
        "\n",
        "class LDL:\n",
        "  def __init__(self):\n",
        "    self.cabecera = None\n",
        "\n",
        "  def insertarAlInicio(self, valor):\n",
        "    nuevoNodo = crearNodo(valor)\n",
        "    nuevoNodo.siguiente = self.cabecera\n",
        "    nuevoNodo.anterior = None\n",
        "    if self.cabecera is not None:\n",
        "      self.cabecera.anterior = nuevoNodo\n",
        "    self.cabecera = nuevoNodo\n",
        "\n",
        "  def busquedaDelaPos(self, elemento):\n",
        "        actual = self.cabecera\n",
        "        while actual is not None:\n",
        "            if actual.valor == elemento:\n",
        "                return actual\n",
        "            actual = actual.siguiente\n",
        "        return None\n",
        "\n",
        "\n",
        "  def insertarCualquierLugar(self, valor, pos):\n",
        "    pos = self.busquedaDelaPos(pos)\n",
        "    if pos is None:\n",
        "      print(\"La posición no esta dentro de la lista\")\n",
        "      return\n",
        "    nuevoNodo = crearNodo(valor)\n",
        "    nuevoNodo.siguiente = pos.siguiente\n",
        "    pos.siguiente = nuevoNodo\n",
        "    nuevoNodo.anterior = pos\n",
        "    if nuevoNodo.siguiente is not None:\n",
        "      nuevoNodo.siguiente.anterior = nuevoNodo\n",
        "\n",
        "  def imprimirLDL(self):\n",
        "    nodoActual = self.cabecera\n",
        "    while nodoActual:\n",
        "     print(nodoActual.valor, end = \"<->\")\n",
        "     nodoActual = nodoActual.siguiente\n",
        "    print(None)\n",
        "\n",
        "\n",
        "  def listaDeElementos(self):\n",
        "    Lista = []\n",
        "    actual = self.cabecera\n",
        "    while actual:\n",
        "      Lista.append(actual.valor)\n",
        "      actual = actual.siguiente\n",
        "    return Lista\n",
        "\n",
        "  def OrdenarLDL(self, Lista):\n",
        "    cambios = True\n",
        "    while cambios:\n",
        "      cambios = False\n",
        "      nodoActual = self.cabecera\n",
        "      while nodoActual.siguiente is not None:\n",
        "        if nodoActual.valor > nodoActual.siguiente.valor:\n",
        "          nodoActual.valor, nodoActual.siguiente.valor = nodoActual.siguiente.valor, nodoActual.valor\n",
        "          cambios = True\n",
        "        nodoActual = nodoActual.siguiente\n",
        "\n",
        "\n",
        "    ListaOrdenada = self.listaDeElementos()\n",
        "\n",
        "    return ListaOrdenada"
      ],
      "metadata": {
        "id": "08XznYj_aql5"
      },
      "execution_count": null,
      "outputs": []
    },
    {
      "cell_type": "markdown",
      "source": [
        "**Por favor, explicar el algoritmo diseñado:**"
      ],
      "metadata": {
        "id": "rqnajWEqs2LB"
      }
    },
    {
      "cell_type": "markdown",
      "source": [
        "En este algoritmo, para insertar un elemento en cualquier posición, se utiliza el algoritmo visto en clase para insertar un elemento en una Lista Doble Ligada (LDL), con una pequeña variación que implica el uso de una función llamada busquedaDelaPos. Esta función permite al usuario especificar la posición en la que desea incluir el valor. busquedaDelaPos recorre la LDL y, si encuentra un valor igual al ingresado por el usuario, retorna esa posición.\n",
        "\n",
        "Más adelante, encontramos la función ListaDeElementos. Esta función recorre la LDL, recopila todos los valores y los agrega a una lista llamada Lista. Esta lista será el argumento utilizado más adelante por la función OrdenarLDL.\n",
        "\n",
        "Por último, la función encargada del ordenamiento de la lista es OrdenarLDL, la cual toma como parametro la lista creada en la función ListaDeElementos. Esta función utiliza una variable booleana llamada cambios, que se inicializa en True, para entrar en un ciclo while siempre que cambios sea True. Luego, se establece cambios en False y se crea una variable NodoActual que será igual a la cabecera de la lista. A continuación, se ingresa en otro ciclo while que se ejecutará siempre que NodoActual.siguiente no sea nulo. Se realiza una validación para verificar si el elemento siguiente es mayor. En caso de ser mayor, se intercambian dichos elementos y se cambia el valor de cambios a True. Posteriormente, NodoActual pasa a ser el siguiente elemento de la lista hasta que su valor sea nulo. Finalmente, se detienen los ciclos cuando no se realizan cambios, lo cual se verifica cuando la variable cambios sigue siendo False, y en consecuencia, el primer ciclo while no se ejecuta."
      ],
      "metadata": {
        "id": "o0nbUsifs4hG"
      }
    },
    {
      "cell_type": "code",
      "source": [
        "# Prueba 1\n",
        "ldl = LDL()\n",
        "ldl.insertarAlInicio(5)\n",
        "ldl.insertarCualquierLugar(12,5)\n",
        "ldl.insertarCualquierLugar(28,5)\n",
        "ldl.insertarCualquierLugar(3,28)\n",
        "ldl.insertarCualquierLugar(7,5)\n",
        "ldl.insertarCualquierLugar(11,12)\n",
        "ldl.insertarCualquierLugar(1,5)\n",
        "ldl.insertarCualquierLugar(2,12)\n",
        "ldl.insertarCualquierLugar(6,3)\n",
        "ldl.insertarCualquierLugar(40,5)\n",
        "ldl.insertarCualquierLugar(21,11)\n",
        "ldl.insertarCualquierLugar(10,28)\n",
        "ldl.insertarCualquierLugar(15,7)\n",
        "ldl.insertarCualquierLugar(17,7)\n",
        "ldl.insertarCualquierLugar(19,1)\n",
        "ldl.insertarCualquierLugar(51,28)\n",
        "ldl.insertarCualquierLugar(16,2)\n",
        "\n",
        "\n",
        "Lista = ldl.listaDeElementos()\n",
        "Lista_Ordenada = ldl.OrdenarLDL(Lista)\n",
        "print(\"Lista ingresada:\", Lista)\n",
        "print(\"Lista Ordenada:\", Lista_Ordenada)"
      ],
      "metadata": {
        "id": "hl61zZ5hs5w2",
        "colab": {
          "base_uri": "https://localhost:8080/"
        },
        "outputId": "178476fc-b5fe-41ea-e752-104569da752e"
      },
      "execution_count": null,
      "outputs": [
        {
          "output_type": "stream",
          "name": "stdout",
          "text": [
            "Lista ingresada: [5, 40, 1, 19, 7, 17, 15, 28, 51, 10, 3, 6, 12, 2, 16, 11, 21]\n",
            "Lista Ordenada: [1, 2, 3, 5, 6, 7, 10, 11, 12, 15, 16, 17, 19, 21, 28, 40, 51]\n"
          ]
        }
      ]
    },
    {
      "cell_type": "code",
      "source": [
        "# Prueba 2\n",
        "ldl = LDL()\n",
        "ldl.insertarAlInicio(1)\n",
        "ldl.insertarAlInicio(2)\n",
        "ldl.insertarAlInicio(3)\n",
        "ldl.insertarAlInicio(4)\n",
        "ldl.insertarAlInicio(5)\n",
        "ldl.insertarAlInicio(6)\n",
        "ldl.insertarAlInicio(7)\n",
        "ldl.insertarAlInicio(8)\n",
        "ldl.insertarAlInicio(9)\n",
        "ldl.insertarAlInicio(10)\n",
        "\n",
        "\n",
        "Lista = ldl.listaDeElementos()\n",
        "Lista_Ordenada = ldl.OrdenarLDL(Lista)\n",
        "print(\"Lista ingresada:\", Lista)\n",
        "print(\"Lista Ordenada:\", Lista_Ordenada)"
      ],
      "metadata": {
        "id": "TikdCGR_tN5b",
        "colab": {
          "base_uri": "https://localhost:8080/"
        },
        "outputId": "a04e5d01-e54a-41f8-d528-3f24263ba5f8"
      },
      "execution_count": null,
      "outputs": [
        {
          "output_type": "stream",
          "name": "stdout",
          "text": [
            "Lista ingresada: [10, 9, 8, 7, 6, 5, 4, 3, 2, 1]\n",
            "Lista Ordenada: [1, 2, 3, 4, 5, 6, 7, 8, 9, 10]\n"
          ]
        }
      ]
    },
    {
      "cell_type": "markdown",
      "source": [
        "## Problema 4 (25%)"
      ],
      "metadata": {
        "id": "arQ8YYSrtXlw"
      }
    },
    {
      "cell_type": "markdown",
      "source": [
        "Considere dos LSL cuyos valores están desordenados. Se desea diseñar un algoritmo que permita concatenarlos en una nueva LSL y luego organizar de menor a mayor sus valores. Para concatenar el último elemento de la primera lista debe estar ligado con el primer elemento de la segunda lista. Es importante asegurar que todo el proceso algorítmico genere un costo computacional igual o inferior a $\\mathcal{O}(n)$.\n",
        "\n",
        "Por favor, adicionar la explicación del funcionamiento del algoritmo"
      ],
      "metadata": {
        "id": "VnClFGeBtoAz"
      }
    },
    {
      "cell_type": "code",
      "source": [
        "class Nodo:\n",
        "    def __init__(self, valor):\n",
        "        self.valor = valor\n",
        "        self.siguiente = None\n",
        "\n",
        "class LSL:\n",
        "    def __init__(self):\n",
        "        self.inicio = None\n",
        "\n",
        "    def insertar(self, valor):\n",
        "        nuevo_nodo = Nodo(valor)\n",
        "        if self.inicio is None:\n",
        "            self.inicio = nuevo_nodo\n",
        "        else:\n",
        "            nodo_actual = self.inicio\n",
        "            while nodo_actual.siguiente:\n",
        "                nodo_actual = nodo_actual.siguiente\n",
        "            nodo_actual.siguiente = nuevo_nodo\n",
        "    def imprimir(self):\n",
        "        if self.inicio is None:\n",
        "            print(\"La LSL está vacía\")\n",
        "        else:\n",
        "            nodo_actual = self.inicio\n",
        "            while nodo_actual:\n",
        "                print(nodo_actual.valor, end=\" -> \")\n",
        "                nodo_actual = nodo_actual.siguiente\n",
        "            print(\"None\")\n",
        "\n",
        "def concat2sort(lista1, lista2):\n",
        "    nodo_actual = lista1.inicio\n",
        "    while nodo_actual.siguiente is not None:\n",
        "        nodo_actual = nodo_actual.siguiente\n",
        "\n",
        "    # Concatena las dos listas enlazadas\n",
        "    nodo_actual.siguiente = lista2.inicio\n",
        "\n",
        "    def ordenamiento_por_conteo(valores):\n",
        "        max_val = max(valores)\n",
        "        conteo = [0] * (max_val + 1)\n",
        "        for valor in valores:\n",
        "            conteo[valor] += 1\n",
        "        valores_ordenados = []\n",
        "        for i, count in enumerate(conteo):\n",
        "            valores_ordenados.extend([i] * count)\n",
        "        return valores_ordenados\n",
        "\n",
        "    valores = []\n",
        "    nodo_actual = lista1.inicio\n",
        "    while nodo_actual:\n",
        "        valores.append(nodo_actual.valor)\n",
        "        nodo_actual = nodo_actual.siguiente\n",
        "\n",
        "    valores = ordenamiento_por_conteo(valores)\n",
        "\n",
        "    nodo_actual = lista1.inicio\n",
        "    for valor in valores:\n",
        "        nodo_actual.valor = valor\n",
        "        nodo_actual = nodo_actual.siguiente\n",
        "\n",
        "    return lista1"
      ],
      "metadata": {
        "id": "VEzmIHhJNxld"
      },
      "execution_count": null,
      "outputs": []
    },
    {
      "cell_type": "markdown",
      "source": [
        "**Por favor, explicar el algoritmo diseñado:**"
      ],
      "metadata": {
        "id": "IqZ0NBy9RETK"
      }
    },
    {
      "cell_type": "markdown",
      "source": [
        "Este código resuelve el problema planteado de concatenar dos Listas Simplemente Ligadas (LSL) y luego ordenar sus valores de menor a mayor.\n",
        "\n",
        "    clase Nodo:\n",
        "\n",
        "Se define una clase Nodo que representa los nodos individuales de la lista. Cada nodo tiene un valor y un enlace al siguiente nodo.\n",
        "\n",
        "    Clase LSL (Lista Simplemente Ligada):\n",
        "\n",
        "`__init__()`: Este método inicializa la lista estableciendo el atributo inicio como None, lo que indica que la lista está vacía.\n",
        "\n",
        "`insertar(valor)`: Este método inserta un nuevo nodo al final de la lista. Si la lista está vacía, el nuevo nodo se convierte en el primer nodo de la lista. Si la lista no está vacía, el método recorre la lista hasta el último nodo y enlaza el nuevo nodo después de él.\n",
        "\n",
        "`imprimir()`: Este método imprime los valores de todos los nodos en la lista.\n",
        "\n",
        "    Función concat2sort:\n",
        "\n",
        "el método concat2sort concatena las dos listas, luego extrae los valores de la lista concatenada, los ordena utilizando el algoritmo de ordenamiento por conteo y finalmente actualiza los valores de los nodos en lsl1 con los valores ordenados\n",
        "\n",
        "explicacion detallada:\n",
        "\n",
        "    nodo_actual = lsl1.inicio\n",
        "    while nodo_actual.siguiente is not None:\n",
        "      nodo_actual = nodo_actual.siguiente\n",
        "  \n",
        "Encuentro del último nodo de la primera lista (lsl1):\n",
        "Aquí, el código recorre la lista lsl1 hasta encontrar el último nodo. Esto se hace para poder concatenar lsl2 al final de lsl1.\n",
        "\n",
        "    nodo_actual.siguiente = lsl2.inicio\n",
        "\n",
        "Concatenación de lsl2 al final de lsl1:\n",
        "\n",
        "Después de encontrar el último nodo de lsl1, el enlace nodo_actual.siguiente se establece para apuntar al primer nodo de lsl2. Esto conecta efectivamente el final de la primera lista con el principio de la segunda lista.\n",
        "\n",
        "    def ordenamiento_por_conteo(valores):\n",
        "      max_val = max(valores)\n",
        "      conteo = [0] * (max_val + 1)\n",
        "      for valor in valores:\n",
        "          conteo[valor] += 1\n",
        "      valores_ordenados = []\n",
        "      for i, count in enumerate(conteo):\n",
        "          valores_ordenados.extend([i] * count)\n",
        "      return valores_ordenados\n",
        "\n",
        "Esta función ordenamiento_por_conteo toma una lista de valores como entrada y devuelve la lista ordenada utilizando el algoritmo de ordenamiento por conteo. Cuenta la frecuencia de cada valor en la lista y luego reconstruye la lista ordenada a partir de esas frecuencias.\n",
        "\n",
        "__Ordenamiento de los valores de la lista concatenada:__\n",
        "\n",
        "    valores = []\n",
        "    nodo_actual = lsl1.inicio\n",
        "    while nodo_actual:\n",
        "        valores.append(nodo_actual.valor)\n",
        "        nodo_actual = nodo_actual.siguiente\n",
        "\n",
        "    valores = ordenamiento_por_conteo(valores)\n",
        "\n",
        "    nodo_actual = lsl1.inicio\n",
        "    for valor in valores:\n",
        "        nodo_actual.valor = valor\n",
        "        nodo_actual = nodo_actual.siguiente\n",
        "    return lsl1\n",
        "\n",
        "-Se recorren los nodos de lsl1 para extraer sus valores y se almacenan en una lista llamada valores.\n",
        "\n",
        "-Luego, se ordenan los valores utilizando la función ordenamiento_por_conteo.\n",
        "\n",
        "-Finalmente, se recorren nuevamente los nodos de lsl1 y se actualizan sus valores con los valores ordenados obtenidos anteriormente.\n",
        "\n",
        "-La función devuelve la lista lsl1, que ahora contiene los valores ordenados de menor a mayor después de la concatenación y el ordenamiento."
      ],
      "metadata": {
        "id": "3HwqxfV5RNJI"
      }
    },
    {
      "cell_type": "code",
      "source": [
        "# Prueba 1\n",
        "\n",
        "Lista1 = LSL() # Colocar una LDLC de 7 elementos cualesquiera\n",
        "Lista1.insertar(3)\n",
        "Lista1.insertar(1)\n",
        "Lista1.insertar(6)\n",
        "Lista1.insertar(9)\n",
        "Lista1.insertar(2)\n",
        "Lista1.insertar(4)\n",
        "Lista1.insertar(7)\n",
        "\n",
        "Lista2 = LSL() # Colocar una LDLC de 5 elementos cualesquiera\n",
        "Lista2.insertar(11)\n",
        "Lista2.insertar(8)\n",
        "Lista2.insertar(10)\n",
        "Lista2.insertar(5)\n",
        "Lista2.insertar(12)\n",
        "\n",
        "# Utiliza la función concat2sort\n",
        "nueva_lista = concat2sort(Lista1, Lista2)\n",
        "print(\"Nueva lista: \")\n",
        "nueva_lista.imprimir()\n"
      ],
      "metadata": {
        "id": "OWBFJWh7ROBY",
        "colab": {
          "base_uri": "https://localhost:8080/"
        },
        "outputId": "6c1b0852-edb2-4104-e038-a02c5bc66ca7"
      },
      "execution_count": null,
      "outputs": [
        {
          "output_type": "stream",
          "name": "stdout",
          "text": [
            "Nueva lista: \n",
            "1 -> 2 -> 3 -> 4 -> 5 -> 6 -> 7 -> 8 -> 9 -> 10 -> 11 -> 12 -> None\n"
          ]
        }
      ]
    },
    {
      "cell_type": "code",
      "source": [
        "# Prueba 2\n",
        "\n",
        "Lista1 = LSL()# Colocar una LDLC de 10 elementos ordenados de mayor a menor\n",
        "Lista1.insertar(10)\n",
        "Lista1.insertar(9)\n",
        "Lista1.insertar(8)\n",
        "Lista1.insertar(7)\n",
        "Lista1.insertar(6)\n",
        "Lista1.insertar(5)\n",
        "Lista1.insertar(4)\n",
        "Lista1.insertar(3)\n",
        "Lista1.insertar(2)\n",
        "Lista1.insertar(1)\n",
        "\n",
        "\n",
        "Lista2 = LSL()# Colocar una LDLC de 5 elementos ordenados de mayor a menor\n",
        "Lista2.insertar(15)\n",
        "Lista2.insertar(14)\n",
        "Lista2.insertar(13)\n",
        "Lista2.insertar(12)\n",
        "Lista2.insertar(11)\n",
        "\n",
        "nueva_lista = concat2sort(Lista1, Lista2)\n",
        "print(\"Nueva lista: \")\n",
        "nueva_lista.imprimir()"
      ],
      "metadata": {
        "id": "R4WkGWHZRrgN",
        "colab": {
          "base_uri": "https://localhost:8080/"
        },
        "outputId": "2f331c8f-4daa-49fb-a2df-a7dd23f3740c"
      },
      "execution_count": null,
      "outputs": [
        {
          "output_type": "stream",
          "name": "stdout",
          "text": [
            "Nueva lista: \n",
            "1 -> 2 -> 3 -> 4 -> 5 -> 6 -> 7 -> 8 -> 9 -> 10 -> 11 -> 12 -> 13 -> 14 -> 15 -> None\n"
          ]
        }
      ]
    },
    {
      "cell_type": "markdown",
      "source": [
        "## Problema 5 (15%)"
      ],
      "metadata": {
        "id": "mZwizfIYSFcT"
      }
    },
    {
      "cell_type": "markdown",
      "source": [
        "Considere dos LSL. Diseñe un algoritmo que permita fusionar sus nodos en la primera lista, tomando nodos alternativamente entre las dos LSL. Si la primera lista no tiene más valores disponibles, los nodos restantes de la segunda lista no deben moverse.\n",
        "\n",
        "Por ejemplo, si la $Lista_1 = [1 -> 2 -> 3 -> None]$ y $Lista_2 = [4 -> 5 -> 6 -> 7 -> 8 -> None]$, entonces el resultado es $Lista_1 = [1 -> 4 -> 2 -> 5 -> 3 -> 6 -> None]$ y $Lista_2 = [7 -> 8 -> None]$.\n",
        "\n",
        "Por favor, adicionar la explicación del funcionamiento del algoritmo."
      ],
      "metadata": {
        "id": "sd_mkRkZSww7"
      }
    },
    {
      "cell_type": "code",
      "source": [
        "class Nodo:\n",
        "    def __init__(self, valor):\n",
        "        self.valor = valor\n",
        "        self.siguiente = None\n",
        "\n",
        "class LSL:\n",
        "    def __init__(self):\n",
        "        self.inicio = None\n",
        "\n",
        "    def insertar(self, valor):\n",
        "        nuevo_nodo = Nodo(valor)\n",
        "        if self.inicio is None:\n",
        "            self.inicio = nuevo_nodo\n",
        "        else:\n",
        "            nodo_actual = self.inicio\n",
        "            while nodo_actual.siguiente:\n",
        "                nodo_actual = nodo_actual.siguiente\n",
        "            nodo_actual.siguiente = nuevo_nodo\n",
        "\n",
        "    def imprimir(self):\n",
        "        if self.inicio is None:\n",
        "            print(\"La LSL está vacia\")\n",
        "        else:\n",
        "            nodo_actual = self.inicio\n",
        "            while nodo_actual:\n",
        "                print(nodo_actual.valor, end = \" -> \")\n",
        "                nodo_actual = nodo_actual.siguiente\n",
        "            print(\"None\")\n",
        "\n",
        "def concat2zigzag(lista1, lista2):\n",
        "    nueva_lista = LSL()\n",
        "\n",
        "    nodo_actual_1 = lista1.inicio\n",
        "    nodo_actual_2 = lista2.inicio\n",
        "\n",
        "    while nodo_actual_1 and nodo_actual_2:\n",
        "        siguiente_nodo_1 = nodo_actual_1.siguiente\n",
        "        siguiente_nodo_2 = nodo_actual_2.siguiente\n",
        "\n",
        "        nodo_actual_1.siguiente = nodo_actual_2\n",
        "        nodo_actual_2.siguiente = siguiente_nodo_1\n",
        "\n",
        "        nueva_lista.insertar(nodo_actual_1.valor)\n",
        "        nueva_lista.insertar(nodo_actual_2.valor)\n",
        "\n",
        "        nodo_actual_1 = siguiente_nodo_1\n",
        "        nodo_actual_2 = siguiente_nodo_2\n",
        "\n",
        "        # Eliminar el nodo de lista2 después de fusionarlo\n",
        "        lista2.inicio = siguiente_nodo_2\n",
        "\n",
        "    return nueva_lista"
      ],
      "metadata": {
        "id": "kAJ_Udw5VKwQ"
      },
      "execution_count": 1,
      "outputs": []
    },
    {
      "cell_type": "markdown",
      "source": [
        "**Por favor, explicar el algoritmo diseñado:**"
      ],
      "metadata": {
        "id": "Na5SnDzmVXI0"
      }
    },
    {
      "cell_type": "markdown",
      "source": [
        "Este algoritmo resuelve el problema de fusionar nodos alternativamente entre dos listas simplemente ligadas (LSL).\n",
        "\n",
        "Primero se definen clases para representar nodos individuales y listas ligadas. Cada nodo contiene un valor y una referencia al siguiente nodo en la lista.\n",
        "Se implementan métodos para insertar nuevos nodos en la lista y para imprimir los valores de los nodos presentes en la lista.\n",
        "\n",
        "Se define una función `concat2zigzag` que toma dos listas simplemente ligadas como entrada. La función itera simultáneamente sobre los nodos de ambas listas, alternando entre ellos. En cada iteración, se ajustan los punteros de los nodos para que el nodo actual de la primera lista apunte al nodo actual de la segunda lista y viceversa. Además, se insertan los valores de los nodos en una nueva lista. Después de fusionar un par de nodos, se avanza al siguiente par de nodos en ambas listas.\n",
        "\n",
        "este algoritmo permite fusionar nodos alternativamente entre dos listas simplemente ligadas, manteniendo el orden relativo de los nodos en ambas listas\n"
      ],
      "metadata": {
        "id": "YuODrDzJVZOB"
      }
    },
    {
      "cell_type": "code",
      "source": [
        "# Prueba 1\n",
        "\n",
        "Lista1 = LSL() # Colocar una LDL de 4 elementos ordenados de menor a mayor\n",
        "Lista1.insertar(1)\n",
        "Lista1.insertar(2)\n",
        "Lista1.insertar(3)\n",
        "Lista1.insertar(4)\n",
        "\n",
        "Lista2 = LSL() # Colocar una LDL de 7 elementos ordenados de menor a mayor\n",
        "Lista2.insertar(5)\n",
        "Lista2.insertar(6)\n",
        "Lista2.insertar(7)\n",
        "Lista2.insertar(8)\n",
        "Lista2.insertar(9)\n",
        "Lista2.insertar(10)\n",
        "Lista2.insertar(11)\n",
        "\n",
        "nueva_lista = concat2zigzag(Lista1, Lista2)\n",
        "print(\"Nueva LSL:\")\n",
        "nueva_lista.imprimir()\n",
        "Lista2.imprimir()"
      ],
      "metadata": {
        "id": "hzjJCy0CVapj",
        "colab": {
          "base_uri": "https://localhost:8080/"
        },
        "outputId": "d9054f3e-d863-4ce1-9e60-0e4528d49c89"
      },
      "execution_count": 3,
      "outputs": [
        {
          "output_type": "stream",
          "name": "stdout",
          "text": [
            "Nueva LSL:\n",
            "1 -> 5 -> 2 -> 6 -> 3 -> 7 -> 4 -> 8 -> None\n",
            "9 -> 10 -> 11 -> None\n"
          ]
        }
      ]
    },
    {
      "cell_type": "code",
      "source": [
        "# Prueba 1\n",
        "\n",
        "Lista1 = LSL() # Colocar una LDL de 4 elementos cualesquiera\n",
        "Lista1.insertar(1)\n",
        "Lista1.insertar(7)\n",
        "Lista1.insertar(3)\n",
        "Lista1.insertar(6)\n",
        "\n",
        "Lista2 = LSL() # Colocar una LDL de 7 elementos cualesquiera\n",
        "Lista2.insertar(5)\n",
        "Lista2.insertar(2)\n",
        "Lista2.insertar(9)\n",
        "Lista2.insertar(4)\n",
        "Lista2.insertar(8)\n",
        "Lista2.insertar(10)\n",
        "Lista2.insertar(11)\n",
        "\n",
        "nueva_lista = concat2zigzag(Lista1, Lista2)\n",
        "print(\"Nueva LSL:\")\n",
        "nueva_lista.imprimir()\n",
        "Lista2.imprimir()"
      ],
      "metadata": {
        "id": "r8cqNfp4XCme",
        "colab": {
          "base_uri": "https://localhost:8080/"
        },
        "outputId": "7d629af8-375c-4b83-b5d0-8b60c6e920f7"
      },
      "execution_count": 4,
      "outputs": [
        {
          "output_type": "stream",
          "name": "stdout",
          "text": [
            "Nueva LSL:\n",
            "1 -> 5 -> 7 -> 2 -> 3 -> 9 -> 6 -> 4 -> None\n",
            "8 -> 10 -> 11 -> None\n"
          ]
        }
      ]
    },
    {
      "cell_type": "markdown",
      "source": [
        "## Problema 6 (15%)"
      ],
      "metadata": {
        "id": "6xmWXVtiXZj_"
      }
    },
    {
      "cell_type": "markdown",
      "source": [
        "Diseñe un algoritmo que permita adaptar una LDL con una cola CC, permitiendo las operaciones de encolar valores en cualquier posición de la lista que desee el usuario."
      ],
      "metadata": {
        "id": "CcJFa0KpXofR"
      }
    },
    {
      "cell_type": "code",
      "source": [
        "class Nodo:\n",
        "    def __init__(self, valor):\n",
        "        self.valor = valor\n",
        "        self.siguiente = None\n",
        "        self.anterior = None\n",
        "\n",
        "class LDLCC:\n",
        "    def __init__(self):\n",
        "        self.cabeza = None\n",
        "        self.cola = None\n",
        "        self.frente_cc = None\n",
        "        self.final_cc = None\n",
        "\n",
        "    def ColaVaciaCC(self):\n",
        "        return self.frente_cc == None\n",
        "\n",
        "    def EncolarCC(self, valor):\n",
        "        if self.ColaVaciaCC():\n",
        "            self.frente_cc = self.final_cc = Nodo(valor)\n",
        "        else:\n",
        "            nuevo_nodo = Nodo(valor)\n",
        "            nuevo_nodo.anterior = self.final_cc\n",
        "            self.final_cc.siguiente = nuevo_nodo\n",
        "            self.final_cc = nuevo_nodo\n",
        "\n",
        "    def DesencolarCC(self):\n",
        "        if self.ColaVaciaCC():\n",
        "            return None\n",
        "        valor_eliminar = self.frente_cc.valor\n",
        "        if self.frente_cc == self.final_cc:\n",
        "            self.frente_cc = self.final_cc = None\n",
        "        else:\n",
        "            self.frente_cc = self.frente_cc.siguiente\n",
        "            self.frente_cc.anterior = None\n",
        "        return valor_eliminar\n",
        "\n",
        "    def InsertarPrimero(self, valor):\n",
        "        nuevo_nodo = Nodo(valor)\n",
        "        if self.cabeza is None:\n",
        "            self.cabeza = self.cola = nuevo_nodo\n",
        "        else:\n",
        "            nuevo_nodo.siguiente = self.cabeza\n",
        "            self.cabeza.anterior = nuevo_nodo\n",
        "            self.cabeza = nuevo_nodo\n",
        "\n",
        "    def InsertarFinal(self, valor):\n",
        "        nuevo_nodo = Nodo(valor)\n",
        "        if self.cola is None:\n",
        "            self.cabeza = self.cola = nuevo_nodo\n",
        "        else:\n",
        "            nuevo_nodo.anterior = self.cola\n",
        "            self.cola.siguiente = nuevo_nodo\n",
        "            self.cola = nuevo_nodo\n",
        "\n",
        "    def Tamaño(self):\n",
        "        actual = self.cabeza\n",
        "        tamaño = 0\n",
        "        while actual is not None:\n",
        "            tamaño += 1\n",
        "            actual = actual.siguiente\n",
        "        return tamaño\n",
        "\n",
        "    def MostrarLDL(self):\n",
        "        actual = self.cabeza\n",
        "        while actual is not None:\n",
        "            print(actual.valor, end=\" <--> \")\n",
        "            actual = actual.siguiente\n",
        "        print(\"None\")\n",
        "\n",
        "    def InsertarEnPosicion(self, valor, posicion):\n",
        "        if posicion < 0 or posicion > self.Tamaño():\n",
        "            print(\"Posición invalida\")\n",
        "            return\n",
        "        if posicion == 0:\n",
        "            self.InsertarPrimero(valor)\n",
        "        elif posicion == self.Tamaño():\n",
        "            self.InsertarFinal(valor)\n",
        "        else:\n",
        "            self.EncolarCC(valor)\n",
        "            actual = self.cabeza\n",
        "            for i in range(posicion - 1):\n",
        "                actual = actual.siguiente\n",
        "            nuevo_nodo = Nodo(self.DesencolarCC())\n",
        "            nuevo_nodo.siguiente = actual.siguiente\n",
        "            actual.siguiente.anterior = nuevo_nodo\n",
        "            nuevo_nodo.anterior = actual\n",
        "            actual.siguiente = nuevo_nodo\n"
      ],
      "metadata": {
        "id": "s_oSjYufXY-t"
      },
      "execution_count": null,
      "outputs": []
    },
    {
      "cell_type": "markdown",
      "source": [
        "**Por favor, explicar el algoritmo diseñado:**"
      ],
      "metadata": {
        "id": "Dt9BFEjmZpyj"
      }
    },
    {
      "cell_type": "markdown",
      "source": [
        "El código implementa una clase $LDLCC$ que combina una Lista Doblemente Ligada (LDL) con una Cola Circular (CC) para permitir la inserción de valores en cualquier posición de la lista.\n",
        "\n",
        "* ____init____(__self__) Inicializa la lista con los punteros cabeza, cola, frente_cc y final_cc apuntando a None.\n",
        "\n",
        "* __ColaVaciaCC(self)__: Verifica si la cola CC está vacía.\n",
        "\n",
        "* __EncolarCC(self, valor)__: Encola un nuevo valor al final de la cola CC.\n",
        "    \n",
        "* __DesencolarCC(self)__: Desencola el primer valor de la cola CC y lo retorna.\n",
        "\n",
        "* __InsertarPrimero(self, valor)__: Inserta un nuevo valor al inicio de la lista.\n",
        "\n",
        "* __InsertarFinal(self, valor)__: Inserta un nuevo valor al final de la lista.\n",
        "    \n",
        "* __Tamaño(self)__: Retorna la cantidad de elementos en la lista.\n",
        "    \n",
        "* __MostrarLDL(self)__: Imprime los valores de la lista en orden de izquierda a derecha.\n",
        "\n",
        "* __InsertarEnPosicion(self, valor, posicion)__: Inserta un nuevo valor en la posición especificada de la lista.\n",
        "\n",
        "\n",
        "El método `InsertarEnPosicion` es crucial para permitir la inserción de valores en cualquier posición deseada de la lista.\n",
        "\n",
        "El método comienza verificando si la posición especificada para la inserción es válida. Si la posición es menor que $0$ o mayor que el tamaño actual de la lista, se imprime un mensaje de error y la inserción se detiene.\n",
        "\n",
        "Si la posición es $0$, lo que significa que se quiere insertar al principio de la lista, se llama al método `InsertarPrimero` para manejar esta inserción de manera específica.\n",
        "\n",
        "Si la posición es igual al tamaño actual de la lista, lo que significa que se quiere insertar al final de la lista, se llama al método `InsertarFinal` para manejar esta inserción de manera específica.\n",
        "\n",
        "Si la posición no es ni $0$ ni el tamaño actual de la lista, entonces se procede con la inserción en una posición intermedia.\n",
        "```\n",
        "self.EncolarCC(valor):\n",
        "Se agrega el valor que se quiere insertar a la cola CC.\n",
        "\n",
        "actual = self.cabeza:\n",
        "Se inicializa una variable actual que apunta al nodo cabeza de la lista para recorrerla.\n",
        "\n",
        "for i in range(posicion - 1):\n",
        "recorremos la lista hasta la posición indicada por el usuario (posicion).\n",
        "```\n",
        "\n",
        "En cada iteración, actual se actualiza para apuntar al siguiente nodo de la lista.\n",
        "\n",
        "    nuevo_nodo = Nodo(self.DesencolarCC()):\n",
        "\n",
        "Se obtiene el valor encolado previamente (`self.DesencolarCC()`) y se crea un nuevo nodo con ese valor.\n",
        "```\n",
        "nuevo_nodo.siguiente = actual.siguiente:\n",
        "Se establece el puntero siguiente del nuevo nodo para que apunte al nodo que estaba originalmente en la posición indicada.\n",
        "\n",
        "actual.siguiente.anterior = nuevo_nodo:\n",
        "Se establece el puntero anterior del nodo que estaba originalmente en la posición indicada para que apunte al nuevo nodo.\n",
        "\n",
        "nuevo_nodo.anterior = actual:\n",
        "Se establece el puntero anterior del nuevo nodo para que apunte al nodo anterior a la posición indicada.\n",
        "\n",
        "actual.siguiente = nuevo_nodo:\n",
        "Se actualiza el puntero siguiente del nodo actual para que apunte al nuevo nodo, insertándolo así en la lista.\n",
        "```\n"
      ],
      "metadata": {
        "id": "KCNQZhFtZthI"
      }
    },
    {
      "cell_type": "code",
      "source": [
        "# Prueba 1\n",
        "# Genere una LDLCC de 10 elementos\n",
        "ldlcc = LDLCC()\n",
        "\n",
        "ldlcc.InsertarFinal(3)\n",
        "ldlcc.InsertarFinal(5)\n",
        "ldlcc.InsertarFinal(8)\n",
        "ldlcc.InsertarFinal(7)\n",
        "ldlcc.InsertarFinal(2)\n",
        "ldlcc.InsertarFinal(9)\n",
        "ldlcc.InsertarFinal(12)\n",
        "ldlcc.InsertarFinal(87)\n",
        "ldlcc.InsertarFinal(43)\n",
        "ldlcc.InsertarFinal(1)\n",
        "\n",
        "ldlcc.MostrarLDL()"
      ],
      "metadata": {
        "id": "RumwG3gBZpRE",
        "colab": {
          "base_uri": "https://localhost:8080/"
        },
        "outputId": "a2339461-4734-4061-d3a3-6a277816f50f"
      },
      "execution_count": null,
      "outputs": [
        {
          "output_type": "stream",
          "name": "stdout",
          "text": [
            "3 <--> 5 <--> 8 <--> 7 <--> 2 <--> 9 <--> 12 <--> 87 <--> 43 <--> 1 <--> None\n"
          ]
        }
      ]
    },
    {
      "cell_type": "code",
      "source": [
        "# Prueba 2\n",
        "# A partir de la anterior lista, permitir que el usuario coloque dos elementos en cualquier posición.\n",
        "ldlcc.InsertarEnPosicion(999,3)\n",
        "ldlcc.MostrarLDL()\n",
        "ldlcc.InsertarEnPosicion(111,7)\n",
        "ldlcc.MostrarLDL()"
      ],
      "metadata": {
        "id": "2wwvnbtqZ7K7",
        "colab": {
          "base_uri": "https://localhost:8080/"
        },
        "outputId": "68063a8d-f614-4bb0-b2a3-ed4b9ce0888a"
      },
      "execution_count": null,
      "outputs": [
        {
          "output_type": "stream",
          "name": "stdout",
          "text": [
            "3 <--> 5 <--> 8 <--> 999 <--> 7 <--> 2 <--> 9 <--> 12 <--> 87 <--> 43 <--> 1 <--> None\n",
            "3 <--> 5 <--> 8 <--> 999 <--> 7 <--> 2 <--> 9 <--> 111 <--> 12 <--> 87 <--> 43 <--> 1 <--> None\n"
          ]
        }
      ]
    },
    {
      "cell_type": "markdown",
      "source": [],
      "metadata": {
        "id": "1BW22YedaPnq"
      }
    },
    {
      "cell_type": "markdown",
      "source": [
        "## Problema 7 (7%)"
      ],
      "metadata": {
        "id": "GTRlaFIJaRke"
      }
    },
    {
      "cell_type": "markdown",
      "source": [
        "Considere una lista o arreglo de valores con un tamaño $n$ definido por el usuario. Diseñe un algoritmo que permita desencolar los valores de la lista y recuperar sus valores a través de una nueva variable.\n",
        "\n",
        "Por favor, adicionar la explicación del funcionamiento del algoritmo."
      ],
      "metadata": {
        "id": "LEEOLJm4aTmh"
      }
    },
    {
      "cell_type": "code",
      "source": [
        "class ColaCC:  # Clase Cola Circular\n",
        "    def __init__(self, n):\n",
        "        self.capacidad = n\n",
        "        self.V = [None] * n  # [None, None, None,...]\n",
        "        self.primero = self.final = -1\n",
        "        self.elementos_eliminados = []\n",
        "\n",
        "    def ColaVacia(self):\n",
        "        return self.primero == -1  # Si Primero esta en la posición -1\n",
        "\n",
        "    def ColaLLena(self):\n",
        "        return self.primero == (self.final + 1) % self.capacidad\n",
        "        # Primero = (Final + 1) % n\n",
        "\n",
        "    def EncolarCC(self, valor):\n",
        "        if self.ColaLLena():  # Si es verdadero\n",
        "            print(\"La cola está llena\")\n",
        "            return\n",
        "        else:\n",
        "            if self.ColaVacia():\n",
        "                self.primero = 0  # Va a empezar a encolar\n",
        "            self.final = (self.final + 1) % self.capacidad  # Actualizamos el puntero final\n",
        "            self.V[self.final] = valor  # Adicionar el valor en la nueva posición del puntero final\n",
        "\n",
        "    def DesencolarCC(self):\n",
        "        if self.ColaVacia():  # Si es verdadero\n",
        "            print(\"La cola está vacía\")\n",
        "            return None\n",
        "        valor_eliminar = self.V[self.primero]\n",
        "        if self.primero == self.final:\n",
        "            self.primero = self.final = -1\n",
        "        else:\n",
        "            self.primero = (self.primero + 1) % self.capacidad\n",
        "            # Primero = (Primero + 1) % n\n",
        "        self.elementos_eliminados.append(valor_eliminar)\n",
        "        return valor_eliminar\n",
        "\n",
        "    def MostrarCC(self):\n",
        "        if self.ColaVacia():\n",
        "            print(\"Cola está vacía\")\n",
        "        else:\n",
        "            Vector = []\n",
        "            print(\"La CC es la siguiente:\")\n",
        "            idx = self.primero\n",
        "            while idx != self.final:\n",
        "                Vector.append(self.V[idx])\n",
        "                idx = (idx + 1) % self.capacidad\n",
        "            Vector.append(self.V[self.final])\n",
        "            print(Vector)\n",
        "\n",
        "    def recuperarCC(self):\n",
        "        nueva_lista = list(self.elementos_eliminados) # Copiar los datos de la lista elementos_eliminados\n",
        "        self.elementos_eliminados = []  # Limpiar la lista de elementos eliminados\n",
        "        if nueva_lista:\n",
        "            return nueva_lista\n",
        "        else:\n",
        "            print(\"No hay elementos eliminados para recuperar.\")\n",
        "            return None\n"
      ],
      "metadata": {
        "id": "wGoPGnxncJY1"
      },
      "execution_count": null,
      "outputs": []
    },
    {
      "cell_type": "markdown",
      "source": [
        "**Por favor, explicar el algoritmo diseñado:**"
      ],
      "metadata": {
        "id": "6HJTaK28cXen"
      }
    },
    {
      "cell_type": "markdown",
      "source": [
        "**Inicialización de la cola (______init__):**\n",
        "\n",
        "En este método, se establecen las propiedades básicas de la cola circular, como su capacidad máxima (__self.capacidad__), la lista que la representa (__self.V__), y los punteros __self.primero__ y __self.final__ que indican la posición del primer y último elemento en la cola. Además, se inicializa la lista __self.elementos_eliminados__ para almacenar elementos eliminados durante el proceso.\n",
        "\n",
        "**Método ColaVacia:**\n",
        "\n",
        "Este método comprueba si la cola está vacía verificando si el puntero __self.primero__ está en su posición inicial, que es -1.\n",
        "\n",
        "**Método ColaLLena:**\n",
        "\n",
        "Aquí se comprueba si la cola está llena comparando los punteros __self.primero__ y __self.final__. La cola está llena cuando el siguiente índice después del último elemento es igual al primer índice.\n",
        "\n",
        "**Método EncolarCC:**\n",
        "\n",
        "Este método se utiliza para añadir elementos a la cola. Primero verifica si la cola está llena usando el método `ColaLLena`. Si la cola está llena, imprime un mensaje y retorna. De lo contrario, actualiza los punteros primero y final e inserta el valor en el arreglo en la posición final.\n",
        "\n",
        "**Método MostrarCC:**\n",
        "\n",
        "Este método muestra todos los elementos de la cola. Si la cola está vacía, muestra un mensaje indicándolo. Si no, recorre la cola y agrega los elementos a una lista, que luego se imprime.\n",
        "\n",
        "**Método DesencolarCC:**\n",
        "\n",
        "Aquí se elimina y devuelve el primer elemento de la cola.\n",
        "\n",
        "* `if self.ColaVacia()`: Primero, se verifica si la cola está vacía utilizando el método ColaVacia. Si la cola está vacía, se imprime un mensaje y se devuelve __None__.\n",
        "\n",
        "* `valor_eliminar = self.V[self.primero]`: Si la cola no está vacía, se procede a obtener el valor del primer elemento de la cola. Este valor se almacenará temporalmente en la variable __valor_eliminar__.\n",
        "\n",
        "* `if self.primero == self.final`: A continuación, se verifica si hay solo un elemento en la cola, es decir, si los punteros __self.primero__ y __self.final__ apuntan al mismo índice en la lista __self.V__.\n",
        "\n",
        " * `self.primero = self.final = -1`: Si hay solo un elemento en la cola, se reinician los punteros __self.primero__ y __self.final__ estableciéndolos en -1, lo que indica que la cola está vacía.\n",
        "\n",
        "* `else`: Si hay más de un elemento en la cola, se ejecuta este bloque de código.\n",
        "\n",
        " * `self.primero = (self.primero + 1) % self.capacidad`: Se avanza el puntero __self.primero__ al siguiente índice en la lista __self.V__, utilizando la operación de módulo __%__ para asegurarse de que el puntero no se desborde y permanezca dentro de los límites de la cola circular.\n",
        "\n",
        "* `self.elementos_eliminados.append(valor_eliminar)`: Se agrega el valor eliminado a la lista self.elementos_eliminados, que se utiliza para almacenar los elementos eliminados durante el proceso de desencolado.\n",
        "\n",
        "* `return valor_eliminar`: Finalmente, se devuelve el valor eliminado de la cola.\n",
        "\n",
        "\n",
        "**Método recuperarCC:**\n",
        "\n",
        "Este método se utiliza para recuperar los elementos eliminados durante el proceso de desencolado.\n",
        "\n",
        "\n",
        "* `nueva_lista = list(self.elementos_eliminados)`: En esta línea, se crea una copia de la lista self.elementos_eliminados utilizando la función __list()__. Esto es necesario para evitar modificar la lista original.\n",
        "\n",
        "* `self.elementos_eliminados = []`: Después de copiar los elementos eliminados a __nueva_lista__, se limpia la lista __self.elementos_eliminados__ para que esté lista para almacenar nuevos elementos eliminados en el futuro.\n",
        "\n",
        "* `if nueva_lista`: Se verifica si hay elementos en la lista copiada __nueva_lista__. Si la lista no está vacía, se procede a devolver la lista.\n",
        "\n",
        "* `else`: Si la lista nueva_lista está vacía, se imprime un mensaje y se devuelve __None__, indicando que no hay elementos eliminados para recuperar.\n"
      ],
      "metadata": {
        "id": "69VskvBkcZmC"
      }
    },
    {
      "cell_type": "code",
      "source": [
        "# Prueba\n",
        "# Genere una Lista de 8 elementos por encolamiento\n",
        "cola = ColaCC(8)\n",
        "cola.EncolarCC(3)\n",
        "cola.EncolarCC(5)\n",
        "cola.EncolarCC(8)\n",
        "cola.EncolarCC(7)\n",
        "cola.EncolarCC(2)\n",
        "cola.EncolarCC(9)\n",
        "cola.EncolarCC(12)\n",
        "cola.EncolarCC(87)\n",
        "cola.MostrarCC()\n",
        "\n",
        "# Luego, desencolar la lista y recuperar los datos eliminados en una nueva variable.\n",
        "cola.DesencolarCC()\n",
        "cola.DesencolarCC()\n",
        "cola.DesencolarCC()\n",
        "cola.MostrarCC()\n",
        "\n",
        "print(\"los elementos recuperados son:\",cola.recuperarCC())\n"
      ],
      "metadata": {
        "id": "nWyZgA9kcasE",
        "colab": {
          "base_uri": "https://localhost:8080/"
        },
        "outputId": "3d4365be-99e8-423e-ffbc-03fdaa97aad7"
      },
      "execution_count": null,
      "outputs": [
        {
          "output_type": "stream",
          "name": "stdout",
          "text": [
            "La CC es la siguiente:\n",
            "[3, 5, 8, 7, 2, 9, 12, 87]\n",
            "La CC es la siguiente:\n",
            "[7, 2, 9, 12, 87]\n",
            "los elementos recuperados son: [3, 5, 8]\n"
          ]
        }
      ]
    },
    {
      "cell_type": "markdown",
      "source": [
        "## Conclusiones de la práctica de laboratorio"
      ],
      "metadata": {
        "id": "SBRCXnf8XZ7K"
      }
    },
    {
      "cell_type": "markdown",
      "source": [
        "Después de resolver los siete problemas del laboratorio 2 del curso Lógica y Representación II, llegamos a las siguientes conclusiones:\n",
        "\n",
        "* Importancia del análisis de la complejidad computacional: Se ha reforzado la importancia de evaluar el costo computacional de las operaciones algorítmicas, tanto en términos de tiempo como de espacio, para seleccionar la estructura de datos y el algoritmo más adecuados para un problema específico.\n",
        "\n",
        "* Habilidades de diseño algorítmico: Se ha mejorado la capacidad de diseñar algoritmos eficientes para operaciones básicas y avanzadas en listas y colas, considerando diferentes escenarios y optimizando el rendimiento.\\\n",
        "\n",
        "* Adaptación de estructuras de datos: Se ha adquirido experiencia en la adaptación de estructuras de datos existentes, como listas y colas circulares, para resolver problemas específicos y obtener un mejor desempeño computacional.\n",
        "\n",
        "* Trabajo en equipo: El trabajo en equipo ha sido fundamental para la resolución de los problemas, fomentando la colaboración, la comunicación efectiva y la distribución de tareas.\n",
        "\n",
        "En resumen, este laboratorio nos ha proporcionado una sólida comprensión de los principios fundamentales del diseño y análisis de algoritmos, así como habilidades prácticas para aplicar estos conceptos en la solución de problemas reales. Estas habilidades son valiosas tanto en el ámbito académico como en la industria, y nos preparan para enfrentar desafíos computacionales más complejos en el futuro.\n"
      ],
      "metadata": {
        "id": "d80gapKYXa2U"
      }
    }
  ]
}