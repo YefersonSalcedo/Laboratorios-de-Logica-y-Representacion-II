{
  "cells": [
    {
      "cell_type": "markdown",
      "metadata": {
        "id": "tQFoSWdpUl-c"
      },
      "source": [
        "# Laboratorio 1: Problemas de Ordenamiento y Búsqueda"
      ]
    },
    {
      "cell_type": "markdown",
      "metadata": {
        "id": "HlPGgxkiUt32"
      },
      "source": [
        "Materia: *Lógica y Representación II*\n",
        "\n",
        "Elaborado por: *Javier Fernando Botía Valderrama*\n",
        "\n",
        "Docente del Docente del Departamento de Ingeniería de Sistemas UdeA"
      ]
    },
    {
      "cell_type": "markdown",
      "metadata": {
        "id": "09wnPLLXU9W9"
      },
      "source": [
        "## Descripción"
      ]
    },
    {
      "cell_type": "markdown",
      "metadata": {
        "id": "n87oPpfzVC4I"
      },
      "source": [
        "El laboratorio 1 esta diseñado para que los estudiantes en grupos de 3 o 4 integrantes, resuelvan 5 ejercicios de diseño algorítimico enfocado en ordenamiento y búsqueda de valores."
      ]
    },
    {
      "cell_type": "markdown",
      "metadata": {
        "id": "NJC7_UxNVrno"
      },
      "source": [
        "## Objetivos de Aprendizaje"
      ]
    },
    {
      "cell_type": "markdown",
      "metadata": {
        "id": "OonOfpyBVul8"
      },
      "source": [
        "*   Analizar las variables y consideraciones del problema, demostrando habilidades en la resolución de problemas de ordenamiento y búsqueda.\n",
        "*   Motivar el proceso de pensamiento lógico para resolver problemas de arreglos de valores a través de las estrategias de ordenamiento y búsqueda vistas en clase."
      ]
    },
    {
      "cell_type": "markdown",
      "metadata": {
        "id": "uQvY1riDWVEw"
      },
      "source": [
        "## Nombres de los Integrantes"
      ]
    },
    {
      "cell_type": "markdown",
      "metadata": {
        "id": "1M494v3vWdl_"
      },
      "source": [
        "*   Yeferson Alexis Salcedo Preciado, yeferson.salcedo@udea.edu.co\n",
        "*   Esteban Luna Seña, esteban.luna@udea.edu.co\n",
        "*   Sebastián Barrera Ruiz, s.barrera@udea.edu.co\n",
        "*   Edson Esteban Garcia Cuesta, edson.garcia@udea.edu.co\n"
      ]
    },
    {
      "cell_type": "markdown",
      "metadata": {
        "id": "nFduVcNEWyku"
      },
      "source": [
        "## Problema 1 (20%)"
      ]
    },
    {
      "cell_type": "markdown",
      "metadata": {
        "id": "_hInwMcz-qSc"
      },
      "source": [
        "**Descripción**: Supongan un arreglo de valores de longitud $n$ ordenado en orden ascendente es rotado entre $1$ y $n$ veces. Por ejemplo, si el arreglo $x = \\lbrack 0,1,2,4,5,6,7 \\rbrack$, podría llegar a ser:\n",
        "\n",
        "\n",
        "*   $[4,5,6,7,0,1,2]$, si el arreglo fue rotado $4$ veces.\n",
        "*   $[0,1,2,4,5,6,7]$, si el arreglo fue rotado $7$ veces.\n",
        "\n",
        "Observen que la rotación del arreglo $x$ tiene la siguiente secuencia:\n",
        "\n",
        "$[x[0], x[1], x[2],\\ldots, x[n-1]]$ se rota **rota 1 vez**, generando como resultado un nuevo arreglo dado por $[x[n-1], x[0], x[1], x[2], \\ldots, x[n-2]]$.\n",
        "\n",
        "Considerando el arreglo rotado ordenado con elementos únicos (es decir, no hay elementos duplicados), **crear un algoritmo que retorne el elemento o valor mínimo de este tipo de arreglos**.\n",
        "\n",
        "**Pistas**:\n",
        "\n",
        "Si la entrada del algoritmo es $x = [3,4,5,1,2]$, la salida del algoritmo es $1$ porque el arreglo original es $x = [1,2,3,4,5]$.\n",
        "\n",
        "Si la entrada del algoritmo es $x = [4,5,6,7,0,1,2]$, la salida del algoritmo es $0$ porque el arreglo original es $x = [0,1,2,4,5,6,7]$ y fue rotado $4$ veces.\n",
        "\n",
        "Construir el algoritmo a partir de un algoritmo de búsqueda binaria."
      ]
    },
    {
      "cell_type": "code",
      "execution_count": null,
      "metadata": {
        "id": "ZW-iCoWBUg2g"
      },
      "outputs": [],
      "source": [
        "def minimovalor(x):\n",
        "  left  = 0\n",
        "  right = len(x)-1\n",
        "\n",
        "  while left < right:\n",
        "    middle = left + (right - left)//2\n",
        "\n",
        "    if x[middle]>x[right]:\n",
        "      left = middle + 1\n",
        "    else:\n",
        "      right = middle\n",
        "  min_valor=x[left]\n",
        "  return min_valor"
      ]
    },
    {
      "cell_type": "markdown",
      "metadata": {
        "id": "GE8DvHX0XedS"
      },
      "source": [
        "**Por favor, explicar el algoritmo diseñado:**"
      ]
    },
    {
      "cell_type": "markdown",
      "metadata": {
        "id": "WQ7avtFsXqjA"
      },
      "source": [
        "Para la resolución de este problema utilizamos un enfoque basada en búsqueda binaria, inicializando dos punteros `left` y `right` apuntando al inicio y al final respectivamente, calculamos el medio del subarreglo con `middle = left + (right - left)//2`. Si el valor en el punto `middle` es mayor que el valor en la posición `right`, movemos el puntero `left` al punto `middle` más uno. De lo contrario, si el valor en el punto medio es menor o igual al valor en la posición `right`, movemos el puntero `right` al punto medio. Cuando los punteros `left` y `right` coincidad, el valor en la posición `left` será el mínimo valor del arreglo."
      ]
    },
    {
      "cell_type": "code",
      "execution_count": null,
      "metadata": {
        "colab": {
          "base_uri": "https://localhost:8080/"
        },
        "id": "GJKJ_gvSEQ8X",
        "outputId": "f29d653e-6272-4fb5-b2c0-700ed4915c6b"
      },
      "outputs": [
        {
          "name": "stdout",
          "output_type": "stream",
          "text": [
            "El valor mínimo es 1.0\n"
          ]
        }
      ],
      "source": [
        "# Prueba 1:\n",
        "x = [3,4,5,1,2]\n",
        "x_min = minimovalor(x)\n",
        "print(\"El valor mínimo es {:.1f}\".format(x_min))"
      ]
    },
    {
      "cell_type": "code",
      "execution_count": null,
      "metadata": {
        "colab": {
          "base_uri": "https://localhost:8080/"
        },
        "id": "6QIldezmEmMU",
        "outputId": "44359e88-a82c-4a63-ec07-22acc7787cf8"
      },
      "outputs": [
        {
          "name": "stdout",
          "output_type": "stream",
          "text": [
            "El valor mínimo es 0.0\n"
          ]
        }
      ],
      "source": [
        "# Prueba 2:\n",
        "x = [4,5,6,7,0,1,2]\n",
        "x_min = minimovalor(x)\n",
        "print(\"El valor mínimo es {:.1f}\".format(x_min))"
      ]
    },
    {
      "cell_type": "code",
      "execution_count": null,
      "metadata": {
        "colab": {
          "base_uri": "https://localhost:8080/"
        },
        "id": "KKso_VwZEvN9",
        "outputId": "e6087c87-a7e9-4fe0-b5b0-f302a2fed663"
      },
      "outputs": [
        {
          "name": "stdout",
          "output_type": "stream",
          "text": [
            "El valor mínimo es 11.0\n"
          ]
        }
      ],
      "source": [
        "# Prueba 3:\n",
        "x = [11,13,15,17]\n",
        "x_min = minimovalor(x)\n",
        "print(\"El valor mínimo es {:.1f}\".format(x_min))"
      ]
    },
    {
      "cell_type": "markdown",
      "metadata": {
        "id": "i6BU5zKuW4Hv"
      },
      "source": [
        "## Problema 2 (20%)"
      ]
    },
    {
      "cell_type": "markdown",
      "metadata": {
        "id": "eykXX9b9E83-"
      },
      "source": [
        "**Descripción:** Dado un arreglo de valores enteros positivos y/o negativos, $x$, diseñar un algoritmo que retorne un nuevo arreglo, $x_{nuevo}$, tal que en cualquier posición $i$ implique que $x_{nuevo} [i]$ **sea igual al producto de todos los elementos** del arreglo $x$, excepto $x[i]$.\n",
        "\n",
        "**Pistas:**\n",
        "\n",
        "Si $x = \\lbrack 1,2,3,4 \\rbrack$ entonces $xnuevo = \\lbrack 24, 12, 8, 6 \\rbrack$\n",
        "\n",
        "Si $x = \\lbrack -1,1,0,-3,3 \\rbrack$ entonces $xnuevo = \\lbrack 0,0,9,0,0\\rbrack$\n",
        "\n",
        "Crear dos listas que permitan multiplicar los valores de izquierda a derecha, y otra derecha a izquierda, de tal manera que al final se multipliquen ambas listas."
      ]
    },
    {
      "cell_type": "code",
      "execution_count": null,
      "metadata": {
        "id": "1fPm0SVsPVpX"
      },
      "outputs": [],
      "source": [
        "def ProductoElementos(x):\n",
        "\n",
        "  n = len(x)\n",
        "  left = [1] * n\n",
        "  right = [1] * n\n",
        "\n",
        "  # Calcular el producto de izquierda a derecha\n",
        "  for i in range(1, n):\n",
        "    left[i] = left[i-1] * x[i-1]\n",
        "\n",
        "  # Calcular el producto de derecha a izquierda\n",
        "  for i in range(n-2, -1, -1):\n",
        "    right[i] = right[i+1] * x[i+1]\n",
        "\n",
        "  # Calcular el producto final para cada posición\n",
        "  x_nuevo = [left[i] * right[i] for i in range(n)]\n",
        "\n",
        "  return x_nuevo"
      ]
    },
    {
      "cell_type": "markdown",
      "metadata": {
        "id": "jSiZfFmrYAMR"
      },
      "source": [
        "**Por favor, explicar el algoritmo diseñado:**"
      ]
    },
    {
      "cell_type": "markdown",
      "metadata": {
        "id": "fGmXCFP-YAMS"
      },
      "source": [
        " Creamos dos listas llamadas `left` y `right`, ambas llenas de unos y del mismo tamaño que el arreglo de entrada `x`. Utilizamos un bucle para calcular los productos parciales de izquierda a derecha y otro bucle para calcular los productos parciales de derecha a izquierda. Multiplicamos los productos parciales de izquierda a derecha y de derecha a izquierda para obtener el producto final para cada posición del arreglo y devolvemos el arreglo resultante que contiene los productos finales."
      ]
    },
    {
      "cell_type": "code",
      "execution_count": null,
      "metadata": {
        "colab": {
          "base_uri": "https://localhost:8080/"
        },
        "id": "JM_k0beaPirk",
        "outputId": "f8edb5c8-db34-4dee-857d-773be4018250"
      },
      "outputs": [
        {
          "name": "stdout",
          "output_type": "stream",
          "text": [
            "El arreglo de valores final:  [24, 12, 8, 6]\n"
          ]
        }
      ],
      "source": [
        "# Prueba 1:\n",
        "x = [1,2,3,4]\n",
        "x_new = ProductoElementos(x)\n",
        "print(\"El arreglo de valores final: \", x_new)"
      ]
    },
    {
      "cell_type": "code",
      "execution_count": null,
      "metadata": {
        "colab": {
          "base_uri": "https://localhost:8080/"
        },
        "id": "ZDcSZrfnP3Cp",
        "outputId": "cf98cf49-5897-4421-d85d-726889f8701b"
      },
      "outputs": [
        {
          "name": "stdout",
          "output_type": "stream",
          "text": [
            "El arreglo de valores final:  [0, 0, 9, 0, 0]\n"
          ]
        }
      ],
      "source": [
        "# Prueba 2:\n",
        "x = [-1,1,0,-3,3]\n",
        "x_new = ProductoElementos(x)\n",
        "print(\"El arreglo de valores final: \", x_new)"
      ]
    },
    {
      "cell_type": "code",
      "execution_count": null,
      "metadata": {
        "colab": {
          "base_uri": "https://localhost:8080/"
        },
        "id": "HE_Udb2pP-dA",
        "outputId": "acfc3a1b-fda5-407c-efe3-95b6c10cfff2"
      },
      "outputs": [
        {
          "name": "stdout",
          "output_type": "stream",
          "text": [
            "El arreglo de valores final:  [-70, 280, 112, -560, 80]\n"
          ]
        }
      ],
      "source": [
        "# Prueba 3:\n",
        "x = [-8,2,5,-1,7]\n",
        "x_new = ProductoElementos(x)\n",
        "print(\"El arreglo de valores final: \", x_new)"
      ]
    },
    {
      "cell_type": "markdown",
      "metadata": {
        "id": "9_F12V3eW6Za"
      },
      "source": [
        "## Problema 3 (20%)"
      ]
    },
    {
      "cell_type": "markdown",
      "metadata": {
        "id": "kwIOxkVK53x8"
      },
      "source": [
        "**Descripción:** Dado un arreglo de valores enteros, $x$, diseñar un algoritmo que permita encontrar el sub-arreglo con la suma más grande, teniendo en cuenta que se debe regresar el valor de su suma.\n",
        "\n",
        "**Pistas:**\n",
        "\n",
        "Si $x = [-2,1,-3,4,-1,2,1,-5,4]$, entonces la salida $SUMA = 6$, ya que el sub-arreglo sería $subx = [4,-1,2,1]$ y además, tiene el valor de la suma más grande igual a $6$.\n",
        "\n",
        "Si $x = [5,4,-1,7,8]$, entonces la salida $SUMA = 23$, ya que el sub-arreglo sería $subx = [5,4,-1,7,8]$ y además, tiene el valor de la suma más grande igual a $23$.\n",
        "\n",
        "\n",
        "Si $x = [1]$, entonces la salida $SUMA = 1$, ya que el sub-arreglo sería $subx = [1]$ y además, tiene el valor de la suma más grande igual a $1$.\n",
        "\n",
        "**Pista opcional**: Consultar el algoritmo Kadane."
      ]
    },
    {
      "cell_type": "code",
      "execution_count": null,
      "metadata": {
        "id": "DbXqe7c--qhG"
      },
      "outputs": [],
      "source": [
        "def SumaMasGrande(x):\n",
        "  maximo_actual = maximo = x[0]#Valor principal o inicial para darle comienzo al subarreglo o evaluar\n",
        "  ini_indice = fin_indi = tempo_indice = 0 #\n",
        "\n",
        "  for i, num in enumerate(x[1:], start=1):#[1:]Significaría que comenzaría en la siguiente posición del asignado al numero siendo evaluado\n",
        "    if num > maximo_actual + num:\n",
        "      maximo_actual = num\n",
        "      tempo_indice = i\n",
        "    else:\n",
        "      maximo_actual += num\n",
        "    if maximo_actual > maximo:\n",
        "      maximo = maximo_actual\n",
        "      ini_indice = tempo_indice\n",
        "      fin_indi = i\n",
        "\n",
        "  return maximo,x[ini_indice:fin_indi + 1]"
      ]
    },
    {
      "cell_type": "markdown",
      "metadata": {
        "id": "L1Rjlc6TYXm4"
      },
      "source": [
        "**Por favor, explicar el algoritmo diseñado:**"
      ]
    },
    {
      "cell_type": "markdown",
      "metadata": {
        "id": "gLi9kOukyz2a"
      },
      "source": [
        "El algoritmo es diseñado con las pistas mencionadas en el mismo ejercicio, se hace por medio de variables temporales que guardarán valores como las sumas y las posiciones de dónde debería comenzar el subarreglo.\n",
        "El algoritmo de Kadane se basa principalmente en ir comparando resultados para decidir si iniciar una nueva lista o sumar al valor anterior y continuar.\n",
        "\n",
        "En el código cada iteración, decidirá si es mejor comenzar un nuevo subarreglo o continuar sumando. Esto se basa en comparar el valor actual con la suma acumulada.\n",
        "El ciclo for con enumerate recorre los números y actualiza las variables temporales. Después de cada actualización, se compara la suma temporal con la máxima y se ajustan los índices.\n",
        "al finalizar, las variables registran el subarreglo con la suma máxima. El enfoque es aprovechar las comparaciones constantes para tomar decisiones inteligentes y seguir la lógica del algoritmo de Kadane."
      ]
    },
    {
      "cell_type": "code",
      "execution_count": null,
      "metadata": {
        "colab": {
          "base_uri": "https://localhost:8080/"
        },
        "id": "1B0YXELF-4At",
        "outputId": "0a015baf-2146-439a-eb85-1126436c40ab"
      },
      "outputs": [
        {
          "name": "stdout",
          "output_type": "stream",
          "text": [
            "El sub-arreglo es :  [4, -1, 2, 1]\n",
            "La suma del sub-arreglo es 6.0\n"
          ]
        }
      ],
      "source": [
        "# Prueba 1:\n",
        "x = [-2,1,-3,4,-1,2,1,-5,4]\n",
        "SUMA, subx = SumaMasGrande(x)\n",
        "print(\"El sub-arreglo es : \", subx)\n",
        "print(\"La suma del sub-arreglo es {:.1f}\".format(SUMA))"
      ]
    },
    {
      "cell_type": "code",
      "execution_count": null,
      "metadata": {
        "colab": {
          "base_uri": "https://localhost:8080/"
        },
        "id": "-h1x1TuX_X6T",
        "outputId": "1a6b7c6d-1e93-4bf6-8650-493d01fe5b15"
      },
      "outputs": [
        {
          "name": "stdout",
          "output_type": "stream",
          "text": [
            "El sub-arreglo es :  [5, 4, -1, 7, 8]\n",
            "La suma del sub-arreglo es 23.0\n"
          ]
        }
      ],
      "source": [
        "# Prueba 2:\n",
        "x = [5,4,-1,7,8]\n",
        "SUMA, subx = SumaMasGrande(x)\n",
        "print(\"El sub-arreglo es : \", subx)\n",
        "print(\"La suma del sub-arreglo es {:.1f}\".format(SUMA))"
      ]
    },
    {
      "cell_type": "code",
      "execution_count": null,
      "metadata": {
        "colab": {
          "base_uri": "https://localhost:8080/"
        },
        "id": "EO4R_UPE_bZv",
        "outputId": "cfe5afd2-7a48-4bc0-fef6-c6094683f7ab"
      },
      "outputs": [
        {
          "name": "stdout",
          "output_type": "stream",
          "text": [
            "El sub-arreglo es :  [1]\n",
            "La suma del sub-arreglo es 1.0\n"
          ]
        }
      ],
      "source": [
        "# Prueba 3:\n",
        "x = [1]\n",
        "SUMA, subx = SumaMasGrande(x)\n",
        "print(\"El sub-arreglo es : \", subx)\n",
        "print(\"La suma del sub-arreglo es {:.1f}\".format(SUMA))"
      ]
    },
    {
      "cell_type": "markdown",
      "metadata": {
        "id": "_K_CWLstW7vA"
      },
      "source": [
        "## Problema 4 (20%)"
      ]
    },
    {
      "cell_type": "markdown",
      "metadata": {
        "id": "YUE-pvJCFt9R"
      },
      "source": [
        "**Descripción:** Dado un arreglo de valores enteros entre 0 y 9, diseñe un algoritmo que permita encontrar dos valores con la máxima suma formada por **todos los digitos del arreglo**. Es indispensable que la diferencia en el número de digitos de los dos valores sea ± 1.\n",
        "\n",
        "**Pistas**\n",
        "\n",
        "Si el arreglo es $x = [4, 6, 2, 7, 9, 8]$, los dos números con la máxima suma serán $974$ y $862$.\n",
        "\n",
        "Si el arreglo es $x = [9, 2, 5, 6, 0, 4]$, los dos números con la máxima suma serán $952$ y $640$\n",
        "\n",
        "Ordenamiento por selección o inserción ordenado de forma ascendente o descendente"
      ]
    },
    {
      "cell_type": "code",
      "execution_count": null,
      "metadata": {
        "id": "0EPk2rBlIqxQ"
      },
      "outputs": [],
      "source": [
        "def DigitosMaximos(x):\n",
        "  count=0\n",
        "  for i in range(0, len(x)):\n",
        "    j=i\n",
        "    while j > 0 and x[j] > x[j-1]:\n",
        "      x[j], x[j-1] = x[j-1], x[j]\n",
        "      count += 1\n",
        "      j -= 1\n",
        "\n",
        "\n",
        "  sum1 = []\n",
        "  sum2 = []\n",
        "\n",
        "  for num in range(0,len(x),2):\n",
        "   sum1.append(x[num])\n",
        "\n",
        "\n",
        "  for num in range(1,len(x),2):\n",
        "   sum2.append(x[num])\n",
        "  return sum1, sum2"
      ]
    },
    {
      "cell_type": "markdown",
      "metadata": {
        "id": "KT6RlywhY-7i"
      },
      "source": [
        "**Por favor, explicar el algoritmo diseñado:**\n"
      ]
    },
    {
      "cell_type": "markdown",
      "metadata": {
        "id": "R63I2If8Y-7k"
      },
      "source": [
        "En este código lo primero realizado, es organizar la lista original en orden descente usando el algoritmo por insercción visto en clase, luego de esto se almacenan los datos en dos listas, (`sum1` y `sum2`); para saber que datos se incluiran en cada lista, se correra la lista original ya organizada con un paso de 2 en 2 para que de esta manera en una lista sean agregados los numeros ubicados en posición par y en la otra lista los numeros en posiciones impares."
      ]
    },
    {
      "cell_type": "code",
      "execution_count": null,
      "metadata": {
        "colab": {
          "base_uri": "https://localhost:8080/"
        },
        "id": "5urJNBh9Kj2i",
        "outputId": "f6acb0c8-1f44-4bc5-8ff8-b28d3e2b91a1"
      },
      "outputs": [
        {
          "name": "stdout",
          "output_type": "stream",
          "text": [
            "Digitos de la suma 1:  [9, 7, 4]\n",
            "Digitos de la suma 2:  [8, 6, 2]\n"
          ]
        }
      ],
      "source": [
        "# Prueba 1:\n",
        "x = [4,6,2,7,9,8]\n",
        "sum1, sum2 = DigitosMaximos(x)\n",
        "print(\"Digitos de la suma 1: \", sum1)\n",
        "print(\"Digitos de la suma 2: \", sum2)"
      ]
    },
    {
      "cell_type": "code",
      "execution_count": null,
      "metadata": {
        "colab": {
          "base_uri": "https://localhost:8080/"
        },
        "id": "667bXmo7LBw1",
        "outputId": "7046b2fb-58df-40b3-d5e8-2bb4975bfa1a"
      },
      "outputs": [
        {
          "name": "stdout",
          "output_type": "stream",
          "text": [
            "Digitos de la suma 1:  [9, 5, 2]\n",
            "Digitos de la suma 2:  [6, 4, 0]\n"
          ]
        }
      ],
      "source": [
        "# Prueba 2:\n",
        "x = [9,2,5,6,0,4]\n",
        "sum1, sum2 = DigitosMaximos(x)\n",
        "print(\"Digitos de la suma 1: \", sum1)\n",
        "print(\"Digitos de la suma 2: \", sum2)"
      ]
    },
    {
      "cell_type": "code",
      "execution_count": null,
      "metadata": {
        "colab": {
          "base_uri": "https://localhost:8080/"
        },
        "id": "Kx5U1XT6LHZj",
        "outputId": "9de3710f-2862-4084-9dc2-2ea6df201470"
      },
      "outputs": [
        {
          "name": "stdout",
          "output_type": "stream",
          "text": [
            "Digitos de la suma 1:  [9, 8, 7, 6, 5, 3, 2, 1, 1]\n",
            "Digitos de la suma 2:  [9, 7, 7, 5, 4, 2, 2, 1]\n"
          ]
        }
      ],
      "source": [
        "# Prueba 3:\n",
        "x = [1,5,7,9,2,1,4,7,8,9,5,3,2,1,7,6,2]\n",
        "sum1, sum2 = DigitosMaximos(x)\n",
        "print(\"Digitos de la suma 1: \", sum1)\n",
        "print(\"Digitos de la suma 2: \", sum2)"
      ]
    },
    {
      "cell_type": "markdown",
      "metadata": {
        "id": "0gYfeEAzW-cm"
      },
      "source": [
        "## Problema 5 (20%)"
      ]
    },
    {
      "cell_type": "markdown",
      "metadata": {
        "id": "q0CBJ4C9LiC5"
      },
      "source": [
        "**Descripción:** Considere un evento donde se mantiene contando la entrada de los invitados a través de un registro del número de llegadas y salidas. Dado un arreglo del número de veces de llegadas y salidas desde las entradas del registro, diseñe un algoritmo que encuentre el momento en que se presentó el máximo número de invitados presentes en el evento. Es importante considerar que si un evento de llegada y salida coinciden, el número de llegada tiene mayor prioridad sobre el número de salida.\n",
        "\n",
        "**Pista:**\n",
        "\n",
        "Si tenemos los siguientes registros:\n",
        "\n",
        "llegada = [1, 2, 4, 7, 8, 12]\n",
        "\n",
        "salida = [2, 7, 8, 12, 10, 15]\n",
        "\n",
        "La solución sería que el número máximo de invitados es $3$, puesto que se presento $7$ veces.\n",
        "\n",
        "**Veces** | **Evento** | **Total de Invitados Presentes**\n",
        "----------|------------|---------------------------------\n",
        "1 | llegada | 1\n",
        "2 | llegada | 2\n",
        "2 | salida | 1\n",
        "4 | llegada | 2\n",
        "**7** | **llegada** | **3**\n",
        "7 | salida | 2\n",
        "8 | llegada | 3\n",
        "8 | salida | 2\n",
        "10 | salida | 1\n",
        "12 | llegada | 2\n",
        "12 | salida | 1\n",
        "15 | salida | 0\n",
        "\n",
        "Una idea del código es encontrar $t$ veces cuando el último invitado deja el evento y crea un conteo de arreglos de tamaño $t+2$."
      ]
    },
    {
      "cell_type": "code",
      "execution_count": null,
      "metadata": {
        "id": "3yIuh8KSnSKp"
      },
      "outputs": [],
      "source": [
        "def MaximosInvitados(llegadas, salidas):\n",
        "\n",
        "    # inicializamos las variables\n",
        "    max_asistencia = 0\n",
        "    momento_max_asistencia = 0\n",
        "    asistencia_actual = 0\n",
        "    i = 0\n",
        "    j = 0\n",
        "\n",
        "    while i < len(llegadas) and j < len(salidas):\n",
        "\n",
        "        # Comprobamos si el evento actual es una llegada\n",
        "        if llegadas[i] <= salidas[j]:\n",
        "            # Incrementar la asistencia actual\n",
        "            asistencia_actual += 1\n",
        "\n",
        "            # Vemos si es necesario actailizar la máxima asistencia\n",
        "            if asistencia_actual > max_asistencia:\n",
        "                max_asistencia = asistencia_actual\n",
        "                momento_max_asistencia = llegadas[i]\n",
        "\n",
        "            i += 1\n",
        "\n",
        "        else:\n",
        "            # Como el evento no es una llegada entonces es una salida, reducimos la asistencia\n",
        "            asistencia_actual -= 1\n",
        "            j += 1\n",
        "\n",
        "    # Devolver la máxima asistencia y el tiempo de máxima asistencia\n",
        "    return max_asistencia, momento_max_asistencia\n"
      ]
    },
    {
      "cell_type": "markdown",
      "metadata": {
        "id": "unuKh1XsZAYv"
      },
      "source": [
        "**Por favor, explicar el algoritmo diseñado:**"
      ]
    },
    {
      "cell_type": "markdown",
      "metadata": {
        "id": "2YTSIT_bZAYw"
      },
      "source": [
        "La función `MaximosInvitados` encuentra el momento con el mayor número de invitados en un evento y cuántos invitados están presentes en ese momento. Utiliza dos arreglos, uno para las llegadas y otro para las salidas de los invitados. Al iterar sobre estos arreglos, la función calcula la cantidad máxima de asistentes en cualquier momento, así como el momento en el que ocurre este máximo. Esto se logra manteniendo un seguimiento de la asistencia actual y comparando los tiempos de llegada y salida de los invitados. Al final, la función devuelve el máximo número de asistentes y el momento en el que ocurre."
      ]
    },
    {
      "cell_type": "code",
      "execution_count": null,
      "metadata": {
        "colab": {
          "base_uri": "https://localhost:8080/"
        },
        "id": "Ul4tBQW3GDKC",
        "outputId": "830aa959-f762-4ff7-8004-0a2eef18c3ea"
      },
      "outputs": [
        {
          "name": "stdout",
          "output_type": "stream",
          "text": [
            "Tiempo de llegada:  3\n",
            "Tiempo de salida:  7\n"
          ]
        }
      ],
      "source": [
        "# Prueba:\n",
        "\n",
        "llegada = [1, 2, 4, 7, 8, 12]\n",
        "salida = [2, 7, 8, 12, 10, 15]\n",
        "a,b = MaximosInvitados(llegada, salida)\n",
        "print(\"Tiempo de llegada: \", a)\n",
        "print(\"Tiempo de salida: \", b)"
      ]
    },
    {
      "cell_type": "markdown",
      "metadata": {
        "id": "TwX2eq0YZCja"
      },
      "source": [
        "## Conclusiones de la práctica de laboratorio"
      ]
    },
    {
      "cell_type": "markdown",
      "metadata": {
        "id": "2UzAtkq8ZHZ2"
      },
      "source": [
        "Después de completar los ejercicios del Laboratorio 1 de Diseño Algorítmico, podemos extraer las siguientes conclusiones:\n",
        "\n",
        "**Comprensión de estrategias de búsqueda y ordenamiento**: Hemos mejorado nuestra comprensión de las estrategias de búsqueda y ordenamiento, dos técnicas fundamentales en ciencia de la computación. Estas estrategias son esenciales para encontrar elementos específicos en conjuntos de datos y organizar los datos de manera efectiva para su posterior procesamiento.\n",
        "\n",
        "**Aplicación de algoritmos complejos**: A través de la resolución de problemas como encontrar el elemento mínimo en un arreglo rotado o determinar el sub-arreglo con la suma más grande, hemos aplicado algoritmos complejos como la búsqueda binaria y el algoritmo de Kadane. Esta experiencia nos ha permitido practicar la implementación de algoritmos avanzados en situaciones del mundo real.\n",
        "\n",
        "**Uso de estructuras de datos auxiliares**: En varios problemas, hemos utilizado estructuras de datos auxiliares, como listas, para almacenar información adicional que facilita la solución del problema. Por ejemplo, en el problema 2, creamos dos listas auxiliares para calcular el producto de todos los elementos excepto el actual.\n",
        "\n",
        "**Desarrollo de habilidades de resolución de problemas**: A través de la resolución de una variedad de problemas desafiantes, hemos fortalecido nuestras habilidades de resolución de problemas y pensamiento lógico. Estas habilidades son fundamentales en informática y son aplicables en una amplia gama de contextos.\n",
        "\n",
        "En general, este laboratorio nos ha proporcionado una sólida base en técnicas de búsqueda y ordenamiento, así como habilidades prácticas para aplicar estas técnicas en la resolución de problemas del mundo real. Estamos mejor preparados para enfrentar desafíos computacionales más complejos y contribuir de manera efectiva en proyectos de desarrollo de software y análisis de datos.\n"
      ]
    }
  ],
  "metadata": {
    "colab": {
      "provenance": []
    },
    "kernelspec": {
      "display_name": "Python 3",
      "name": "python3"
    },
    "language_info": {
      "name": "python"
    }
  },
  "nbformat": 4,
  "nbformat_minor": 0
}
